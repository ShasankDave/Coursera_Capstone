{
 "cells": [
  {
   "cell_type": "markdown",
   "metadata": {},
   "source": [
    "# Week-3 IBM DS Professional Assignment-Part3"
   ]
  },
  {
   "cell_type": "markdown",
   "metadata": {},
   "source": [
    "Assignment Details & Submission Guidelines"
   ]
  },
  {
   "cell_type": "markdown",
   "metadata": {},
   "source": [
    "Explore and cluster the neighborhoods in Toronto. You can decide to work with only boroughs that contain the word Toronto and then replicate the same analysis we did to the New York City data. It is up to you.\n",
    "\n",
    "Just make sure:\n",
    "\n",
    "to add enough Markdown cells to explain what you decided to do and to report any observations you make.\n",
    "to generate maps to visualize your neighborhoods and how they cluster together.\n",
    "Once you are happy with your analysis, submit a link to the new Notebook on your Github repository. (3 marks)\n",
    "\n"
   ]
  },
  {
   "cell_type": "code",
   "execution_count": 74,
   "metadata": {},
   "outputs": [
    {
     "name": "stdout",
     "output_type": "stream",
     "text": [
      "************Dependencies Imported***************\n"
     ]
    }
   ],
   "source": [
    "#importing dependencies\n",
    "import pandas as pd\n",
    "import numpy as np\n",
    "from geopy.geocoders import Nominatim\n",
    "import folium\n",
    "import matplotlib.cm as cm\n",
    "import matplotlib.colors as colors\n",
    "from sklearn.cluster import KMeans\n",
    "print(\"************Dependencies Imported***************\")"
   ]
  },
  {
   "cell_type": "code",
   "execution_count": 75,
   "metadata": {},
   "outputs": [],
   "source": [
    "from IPython.core.display import HTML\n",
    "import folium\n",
    "import datetime\n",
    "from datetime import datetime\n",
    "import requests\n",
    "from bs4 import BeautifulSoup\n",
    "import lxml.html as lh\n",
    "import pandas as pd\n",
    "import re\n",
    "import time\n",
    "import psutil\n",
    "import json\n",
    "\n",
    "import numpy as np\n",
    "from PIL import Image\n",
    "import os\n",
    "from os import path\n",
    "import matplotlib.pyplot as plt\n",
    "\n",
    "import plotly.graph_objects as go\n",
    "from pandas.plotting import register_matplotlib_converters\n",
    "import plotly.express as px\n",
    "from plotly.subplots import make_subplots\n",
    "from IPython.display import display, Markdown, Latex\n",
    "import matplotlib as plot\n",
    "from matplotlib.pyplot import figure\n",
    "import seaborn as sns\n",
    "\n",
    "register_matplotlib_converters()\n",
    "from IPython.display import Markdown\n",
    "\n",
    "import plotly.offline as py\n",
    "import plotly.express as px\n",
    "\n",
    "dataset = pd.DataFrame()"
   ]
  },
  {
   "cell_type": "code",
   "execution_count": 76,
   "metadata": {},
   "outputs": [
    {
     "data": {
      "text/plain": [
       "(111, 10)"
      ]
     },
     "execution_count": 76,
     "metadata": {},
     "output_type": "execute_result"
    }
   ],
   "source": [
    "mumbai_pincodes=pd.read_csv('./Mumbai_Data/Mumbai_Pincodes_latitude_longitude.csv')\n",
    "mumbai_pincodes.head()\n",
    "mumbai_pincodes.shape"
   ]
  },
  {
   "cell_type": "code",
   "execution_count": 77,
   "metadata": {},
   "outputs": [
    {
     "data": {
      "text/html": [
       "<div>\n",
       "<style scoped>\n",
       "    .dataframe tbody tr th:only-of-type {\n",
       "        vertical-align: middle;\n",
       "    }\n",
       "\n",
       "    .dataframe tbody tr th {\n",
       "        vertical-align: top;\n",
       "    }\n",
       "\n",
       "    .dataframe thead th {\n",
       "        text-align: right;\n",
       "    }\n",
       "</style>\n",
       "<table border=\"1\" class=\"dataframe\">\n",
       "  <thead>\n",
       "    <tr style=\"text-align: right;\">\n",
       "      <th></th>\n",
       "      <th>Ward</th>\n",
       "      <th>Pincode</th>\n",
       "      <th>Address</th>\n",
       "    </tr>\n",
       "  </thead>\n",
       "  <tbody>\n",
       "    <tr>\n",
       "      <th>0</th>\n",
       "      <td>A</td>\n",
       "      <td>400001</td>\n",
       "      <td>Blossoms,ModiStrret,OppFishMarket,Fort</td>\n",
       "    </tr>\n",
       "    <tr>\n",
       "      <th>1</th>\n",
       "      <td>A</td>\n",
       "      <td>400001</td>\n",
       "      <td>Sahayog,5,MintRoad,OppGpo,Fort</td>\n",
       "    </tr>\n",
       "    <tr>\n",
       "      <th>2</th>\n",
       "      <td>A</td>\n",
       "      <td>400005</td>\n",
       "      <td>AbbasBuilding,BKBomanBehramMarg,BackSideOfTajH...</td>\n",
       "    </tr>\n",
       "    <tr>\n",
       "      <th>3</th>\n",
       "      <td>A</td>\n",
       "      <td>400005</td>\n",
       "      <td>BandusCourt,1StPastaLane,Colaba</td>\n",
       "    </tr>\n",
       "    <tr>\n",
       "      <th>4</th>\n",
       "      <td>A</td>\n",
       "      <td>400005</td>\n",
       "      <td>GaneshmurthiNagarPartNo1,3,CaptainPrakashPethe...</td>\n",
       "    </tr>\n",
       "  </tbody>\n",
       "</table>\n",
       "</div>"
      ],
      "text/plain": [
       "  Ward  Pincode                                            Address\n",
       "0   A    400001             Blossoms,ModiStrret,OppFishMarket,Fort\n",
       "1   A    400001                     Sahayog,5,MintRoad,OppGpo,Fort\n",
       "2   A    400005  AbbasBuilding,BKBomanBehramMarg,BackSideOfTajH...\n",
       "3   A    400005                    BandusCourt,1StPastaLane,Colaba\n",
       "4   A    400005  GaneshmurthiNagarPartNo1,3,CaptainPrakashPethe..."
      ]
     },
     "execution_count": 77,
     "metadata": {},
     "output_type": "execute_result"
    }
   ],
   "source": [
    "#List of covid zones in mumbai\n",
    "covid_zones_mumbai=pd.read_csv('./Mumbai_Data/Covid_Zones_Mumbai.csv')\n",
    "covid_zones_mumbai.head()"
   ]
  },
  {
   "cell_type": "code",
   "execution_count": 78,
   "metadata": {},
   "outputs": [],
   "source": [
    "#Merging Covid zones & mumbai pincode data to get covid zones latitude & Longitude\n",
    "covid19_mumbai=covid_zones_mumbai.merge(mumbai_pincodes,how='left',on='Pincode',validate='m:1')"
   ]
  },
  {
   "cell_type": "code",
   "execution_count": 79,
   "metadata": {},
   "outputs": [
    {
     "data": {
      "text/html": [
       "<div>\n",
       "<style scoped>\n",
       "    .dataframe tbody tr th:only-of-type {\n",
       "        vertical-align: middle;\n",
       "    }\n",
       "\n",
       "    .dataframe tbody tr th {\n",
       "        vertical-align: top;\n",
       "    }\n",
       "\n",
       "    .dataframe thead th {\n",
       "        text-align: right;\n",
       "    }\n",
       "</style>\n",
       "<table border=\"1\" class=\"dataframe\">\n",
       "  <thead>\n",
       "    <tr style=\"text-align: right;\">\n",
       "      <th></th>\n",
       "      <th>Ward</th>\n",
       "      <th>Pincode</th>\n",
       "      <th>Address</th>\n",
       "      <th>Unnamed: 0</th>\n",
       "      <th>Area</th>\n",
       "      <th>State</th>\n",
       "      <th>Number</th>\n",
       "      <th>Region</th>\n",
       "      <th>Area_Tag</th>\n",
       "      <th>Latitude</th>\n",
       "      <th>Longitude</th>\n",
       "      <th>BMC_Ward</th>\n",
       "    </tr>\n",
       "  </thead>\n",
       "  <tbody>\n",
       "    <tr>\n",
       "      <th>0</th>\n",
       "      <td>A</td>\n",
       "      <td>400001</td>\n",
       "      <td>Blossoms,ModiStrret,OppFishMarket,Fort</td>\n",
       "      <td>1.0</td>\n",
       "      <td>Mumbai G.P.O.</td>\n",
       "      <td>Maharashtra</td>\n",
       "      <td>16.0</td>\n",
       "      <td>Mumbai</td>\n",
       "      <td>Mumbai</td>\n",
       "      <td>18.6291</td>\n",
       "      <td>72.8919</td>\n",
       "      <td>NaN</td>\n",
       "    </tr>\n",
       "    <tr>\n",
       "      <th>1</th>\n",
       "      <td>A</td>\n",
       "      <td>400001</td>\n",
       "      <td>Sahayog,5,MintRoad,OppGpo,Fort</td>\n",
       "      <td>1.0</td>\n",
       "      <td>Mumbai G.P.O.</td>\n",
       "      <td>Maharashtra</td>\n",
       "      <td>16.0</td>\n",
       "      <td>Mumbai</td>\n",
       "      <td>Mumbai</td>\n",
       "      <td>18.6291</td>\n",
       "      <td>72.8919</td>\n",
       "      <td>NaN</td>\n",
       "    </tr>\n",
       "    <tr>\n",
       "      <th>2</th>\n",
       "      <td>A</td>\n",
       "      <td>400005</td>\n",
       "      <td>AbbasBuilding,BKBomanBehramMarg,BackSideOfTajH...</td>\n",
       "      <td>5.0</td>\n",
       "      <td>Colaba</td>\n",
       "      <td>Maharashtra</td>\n",
       "      <td>16.0</td>\n",
       "      <td>Mumbai</td>\n",
       "      <td>Mumbai</td>\n",
       "      <td>18.9069</td>\n",
       "      <td>72.8106</td>\n",
       "      <td>NaN</td>\n",
       "    </tr>\n",
       "    <tr>\n",
       "      <th>3</th>\n",
       "      <td>A</td>\n",
       "      <td>400005</td>\n",
       "      <td>BandusCourt,1StPastaLane,Colaba</td>\n",
       "      <td>5.0</td>\n",
       "      <td>Colaba</td>\n",
       "      <td>Maharashtra</td>\n",
       "      <td>16.0</td>\n",
       "      <td>Mumbai</td>\n",
       "      <td>Mumbai</td>\n",
       "      <td>18.9069</td>\n",
       "      <td>72.8106</td>\n",
       "      <td>NaN</td>\n",
       "    </tr>\n",
       "    <tr>\n",
       "      <th>4</th>\n",
       "      <td>A</td>\n",
       "      <td>400005</td>\n",
       "      <td>GaneshmurthiNagarPartNo1,3,CaptainPrakashPethe...</td>\n",
       "      <td>5.0</td>\n",
       "      <td>Colaba</td>\n",
       "      <td>Maharashtra</td>\n",
       "      <td>16.0</td>\n",
       "      <td>Mumbai</td>\n",
       "      <td>Mumbai</td>\n",
       "      <td>18.9069</td>\n",
       "      <td>72.8106</td>\n",
       "      <td>NaN</td>\n",
       "    </tr>\n",
       "  </tbody>\n",
       "</table>\n",
       "</div>"
      ],
      "text/plain": [
       "  Ward  Pincode                                            Address  \\\n",
       "0   A    400001             Blossoms,ModiStrret,OppFishMarket,Fort   \n",
       "1   A    400001                     Sahayog,5,MintRoad,OppGpo,Fort   \n",
       "2   A    400005  AbbasBuilding,BKBomanBehramMarg,BackSideOfTajH...   \n",
       "3   A    400005                    BandusCourt,1StPastaLane,Colaba   \n",
       "4   A    400005  GaneshmurthiNagarPartNo1,3,CaptainPrakashPethe...   \n",
       "\n",
       "   Unnamed: 0           Area        State  Number  Region Area_Tag  Latitude  \\\n",
       "0         1.0  Mumbai G.P.O.  Maharashtra    16.0  Mumbai   Mumbai   18.6291   \n",
       "1         1.0  Mumbai G.P.O.  Maharashtra    16.0  Mumbai   Mumbai   18.6291   \n",
       "2         5.0         Colaba  Maharashtra    16.0  Mumbai   Mumbai   18.9069   \n",
       "3         5.0         Colaba  Maharashtra    16.0  Mumbai   Mumbai   18.9069   \n",
       "4         5.0         Colaba  Maharashtra    16.0  Mumbai   Mumbai   18.9069   \n",
       "\n",
       "   Longitude  BMC_Ward  \n",
       "0    72.8919       NaN  \n",
       "1    72.8919       NaN  \n",
       "2    72.8106       NaN  \n",
       "3    72.8106       NaN  \n",
       "4    72.8106       NaN  "
      ]
     },
     "execution_count": 79,
     "metadata": {},
     "output_type": "execute_result"
    }
   ],
   "source": [
    "#Comprehensive dataset of covid-19 cases in mumbai uptill 18th April\n",
    "#Source: http://stopcoronavirus.mcgm.gov.in/\n",
    "covid19_mumbai.head()"
   ]
  },
  {
   "cell_type": "code",
   "execution_count": 80,
   "metadata": {},
   "outputs": [
    {
     "data": {
      "text/html": [
       "<div>\n",
       "<style scoped>\n",
       "    .dataframe tbody tr th:only-of-type {\n",
       "        vertical-align: middle;\n",
       "    }\n",
       "\n",
       "    .dataframe tbody tr th {\n",
       "        vertical-align: top;\n",
       "    }\n",
       "\n",
       "    .dataframe thead th {\n",
       "        text-align: right;\n",
       "    }\n",
       "</style>\n",
       "<table border=\"1\" class=\"dataframe\">\n",
       "  <thead>\n",
       "    <tr style=\"text-align: right;\">\n",
       "      <th></th>\n",
       "      <th>lab</th>\n",
       "      <th>address</th>\n",
       "      <th>Pincode</th>\n",
       "      <th>city</th>\n",
       "      <th>state</th>\n",
       "      <th>type</th>\n",
       "    </tr>\n",
       "  </thead>\n",
       "  <tbody>\n",
       "    <tr>\n",
       "      <th>113</th>\n",
       "      <td>Seth GS Medical College &amp; KEM Hospital, Mumbai</td>\n",
       "      <td>Seth GS Medical College &amp; KEM Hospital, Achary...</td>\n",
       "      <td>400012</td>\n",
       "      <td>Mumbai</td>\n",
       "      <td>Maharashtra</td>\n",
       "      <td>Government Laboratory</td>\n",
       "    </tr>\n",
       "    <tr>\n",
       "      <th>114</th>\n",
       "      <td>Kasturba Hospital for Infectious Diseases, Mumbai</td>\n",
       "      <td>Kasturba Hospital for Infectious Diseases, San...</td>\n",
       "      <td>400034</td>\n",
       "      <td>Mumbai</td>\n",
       "      <td>Maharashtra</td>\n",
       "      <td>Government Laboratory</td>\n",
       "    </tr>\n",
       "    <tr>\n",
       "      <th>115</th>\n",
       "      <td>National Institute of Virology Field Unit, Mumbai</td>\n",
       "      <td>National Institute of Virology Field Unit, Haf...</td>\n",
       "      <td>400012</td>\n",
       "      <td>Mumbai</td>\n",
       "      <td>Maharashtra</td>\n",
       "      <td>Government Laboratory</td>\n",
       "    </tr>\n",
       "    <tr>\n",
       "      <th>119</th>\n",
       "      <td>Grant Medical College &amp; Sir JJ Hospital, Mumbai</td>\n",
       "      <td>Grant Medical College &amp; Sir JJ Hospital, J J M...</td>\n",
       "      <td>400008</td>\n",
       "      <td>Mumbai</td>\n",
       "      <td>Maharashtra</td>\n",
       "      <td>Government Laboratory</td>\n",
       "    </tr>\n",
       "    <tr>\n",
       "      <th>122</th>\n",
       "      <td>Haffkine Institute, Mumbai</td>\n",
       "      <td>Haffkine Institute, Acharya Donde Marg, Parel,...</td>\n",
       "      <td>400012</td>\n",
       "      <td>Mumbai</td>\n",
       "      <td>Maharashtra</td>\n",
       "      <td>Government Laboratory</td>\n",
       "    </tr>\n",
       "  </tbody>\n",
       "</table>\n",
       "</div>"
      ],
      "text/plain": [
       "                                                   lab  \\\n",
       "113     Seth GS Medical College & KEM Hospital, Mumbai   \n",
       "114  Kasturba Hospital for Infectious Diseases, Mumbai   \n",
       "115  National Institute of Virology Field Unit, Mumbai   \n",
       "119    Grant Medical College & Sir JJ Hospital, Mumbai   \n",
       "122                         Haffkine Institute, Mumbai   \n",
       "\n",
       "                                               address  Pincode    city  \\\n",
       "113  Seth GS Medical College & KEM Hospital, Achary...   400012  Mumbai   \n",
       "114  Kasturba Hospital for Infectious Diseases, San...   400034  Mumbai   \n",
       "115  National Institute of Virology Field Unit, Haf...   400012  Mumbai   \n",
       "119  Grant Medical College & Sir JJ Hospital, J J M...   400008  Mumbai   \n",
       "122  Haffkine Institute, Acharya Donde Marg, Parel,...   400012  Mumbai   \n",
       "\n",
       "           state                   type  \n",
       "113  Maharashtra  Government Laboratory  \n",
       "114  Maharashtra  Government Laboratory  \n",
       "115  Maharashtra  Government Laboratory  \n",
       "119  Maharashtra  Government Laboratory  \n",
       "122  Maharashtra  Government Laboratory  "
      ]
     },
     "execution_count": 80,
     "metadata": {},
     "output_type": "execute_result"
    }
   ],
   "source": [
    "#Looking at Testing labs from india's list & extract mumbai's data\n",
    "testing_labs_india=pd.read_csv('./covid19/Covid_data_srk/ICMRTestingLabs.csv')\n",
    "testing_labs_india.rename(columns={\"pincode\": \"Pincode\"},inplace=True)\n",
    "mumbai_testing_labs=testing_labs_india.loc[testing_labs_india['city']== 'Mumbai']\n",
    "mumbai_testing_labs.head()"
   ]
  },
  {
   "cell_type": "code",
   "execution_count": 81,
   "metadata": {},
   "outputs": [
    {
     "data": {
      "text/html": [
       "<div>\n",
       "<style scoped>\n",
       "    .dataframe tbody tr th:only-of-type {\n",
       "        vertical-align: middle;\n",
       "    }\n",
       "\n",
       "    .dataframe tbody tr th {\n",
       "        vertical-align: top;\n",
       "    }\n",
       "\n",
       "    .dataframe thead th {\n",
       "        text-align: right;\n",
       "    }\n",
       "</style>\n",
       "<table border=\"1\" class=\"dataframe\">\n",
       "  <thead>\n",
       "    <tr style=\"text-align: right;\">\n",
       "      <th></th>\n",
       "      <th>lab</th>\n",
       "      <th>address</th>\n",
       "      <th>Pincode</th>\n",
       "      <th>city</th>\n",
       "      <th>state</th>\n",
       "      <th>type</th>\n",
       "      <th>Unnamed: 0</th>\n",
       "      <th>Area</th>\n",
       "      <th>State</th>\n",
       "      <th>Number</th>\n",
       "      <th>Region</th>\n",
       "      <th>Area_Tag</th>\n",
       "      <th>Latitude</th>\n",
       "      <th>Longitude</th>\n",
       "      <th>BMC_Ward</th>\n",
       "    </tr>\n",
       "  </thead>\n",
       "  <tbody>\n",
       "    <tr>\n",
       "      <th>0</th>\n",
       "      <td>Seth GS Medical College &amp; KEM Hospital, Mumbai</td>\n",
       "      <td>Seth GS Medical College &amp; KEM Hospital, Achary...</td>\n",
       "      <td>400012</td>\n",
       "      <td>Mumbai</td>\n",
       "      <td>Maharashtra</td>\n",
       "      <td>Government Laboratory</td>\n",
       "      <td>54.0</td>\n",
       "      <td>Parel Rly Work Shop</td>\n",
       "      <td>Maharashtra</td>\n",
       "      <td>16.0</td>\n",
       "      <td>Mumbai</td>\n",
       "      <td>NaN</td>\n",
       "      <td>19.0000</td>\n",
       "      <td>72.8333</td>\n",
       "      <td>NaN</td>\n",
       "    </tr>\n",
       "    <tr>\n",
       "      <th>1</th>\n",
       "      <td>Kasturba Hospital for Infectious Diseases, Mumbai</td>\n",
       "      <td>Kasturba Hospital for Infectious Diseases, San...</td>\n",
       "      <td>400034</td>\n",
       "      <td>Mumbai</td>\n",
       "      <td>Maharashtra</td>\n",
       "      <td>Government Laboratory</td>\n",
       "      <td>111.0</td>\n",
       "      <td>Tulsiwadi</td>\n",
       "      <td>Maharashtra</td>\n",
       "      <td>16.0</td>\n",
       "      <td>Mumbai</td>\n",
       "      <td>Mumbai</td>\n",
       "      <td>19.0167</td>\n",
       "      <td>72.8500</td>\n",
       "      <td>NaN</td>\n",
       "    </tr>\n",
       "    <tr>\n",
       "      <th>2</th>\n",
       "      <td>National Institute of Virology Field Unit, Mumbai</td>\n",
       "      <td>National Institute of Virology Field Unit, Haf...</td>\n",
       "      <td>400012</td>\n",
       "      <td>Mumbai</td>\n",
       "      <td>Maharashtra</td>\n",
       "      <td>Government Laboratory</td>\n",
       "      <td>54.0</td>\n",
       "      <td>Parel Rly Work Shop</td>\n",
       "      <td>Maharashtra</td>\n",
       "      <td>16.0</td>\n",
       "      <td>Mumbai</td>\n",
       "      <td>NaN</td>\n",
       "      <td>19.0000</td>\n",
       "      <td>72.8333</td>\n",
       "      <td>NaN</td>\n",
       "    </tr>\n",
       "    <tr>\n",
       "      <th>3</th>\n",
       "      <td>Grant Medical College &amp; Sir JJ Hospital, Mumbai</td>\n",
       "      <td>Grant Medical College &amp; Sir JJ Hospital, J J M...</td>\n",
       "      <td>400008</td>\n",
       "      <td>Mumbai</td>\n",
       "      <td>Maharashtra</td>\n",
       "      <td>Government Laboratory</td>\n",
       "      <td>8.0</td>\n",
       "      <td>Kamathipura</td>\n",
       "      <td>Maharashtra</td>\n",
       "      <td>16.0</td>\n",
       "      <td>Mumbai</td>\n",
       "      <td>Mumbai</td>\n",
       "      <td>18.6291</td>\n",
       "      <td>72.8919</td>\n",
       "      <td>NaN</td>\n",
       "    </tr>\n",
       "    <tr>\n",
       "      <th>4</th>\n",
       "      <td>Haffkine Institute, Mumbai</td>\n",
       "      <td>Haffkine Institute, Acharya Donde Marg, Parel,...</td>\n",
       "      <td>400012</td>\n",
       "      <td>Mumbai</td>\n",
       "      <td>Maharashtra</td>\n",
       "      <td>Government Laboratory</td>\n",
       "      <td>54.0</td>\n",
       "      <td>Parel Rly Work Shop</td>\n",
       "      <td>Maharashtra</td>\n",
       "      <td>16.0</td>\n",
       "      <td>Mumbai</td>\n",
       "      <td>NaN</td>\n",
       "      <td>19.0000</td>\n",
       "      <td>72.8333</td>\n",
       "      <td>NaN</td>\n",
       "    </tr>\n",
       "  </tbody>\n",
       "</table>\n",
       "</div>"
      ],
      "text/plain": [
       "                                                 lab  \\\n",
       "0     Seth GS Medical College & KEM Hospital, Mumbai   \n",
       "1  Kasturba Hospital for Infectious Diseases, Mumbai   \n",
       "2  National Institute of Virology Field Unit, Mumbai   \n",
       "3    Grant Medical College & Sir JJ Hospital, Mumbai   \n",
       "4                         Haffkine Institute, Mumbai   \n",
       "\n",
       "                                             address  Pincode    city  \\\n",
       "0  Seth GS Medical College & KEM Hospital, Achary...   400012  Mumbai   \n",
       "1  Kasturba Hospital for Infectious Diseases, San...   400034  Mumbai   \n",
       "2  National Institute of Virology Field Unit, Haf...   400012  Mumbai   \n",
       "3  Grant Medical College & Sir JJ Hospital, J J M...   400008  Mumbai   \n",
       "4  Haffkine Institute, Acharya Donde Marg, Parel,...   400012  Mumbai   \n",
       "\n",
       "         state                   type  Unnamed: 0                 Area  \\\n",
       "0  Maharashtra  Government Laboratory        54.0  Parel Rly Work Shop   \n",
       "1  Maharashtra  Government Laboratory       111.0            Tulsiwadi   \n",
       "2  Maharashtra  Government Laboratory        54.0  Parel Rly Work Shop   \n",
       "3  Maharashtra  Government Laboratory         8.0          Kamathipura   \n",
       "4  Maharashtra  Government Laboratory        54.0  Parel Rly Work Shop   \n",
       "\n",
       "         State  Number  Region Area_Tag  Latitude  Longitude  BMC_Ward  \n",
       "0  Maharashtra    16.0  Mumbai      NaN   19.0000    72.8333       NaN  \n",
       "1  Maharashtra    16.0  Mumbai   Mumbai   19.0167    72.8500       NaN  \n",
       "2  Maharashtra    16.0  Mumbai      NaN   19.0000    72.8333       NaN  \n",
       "3  Maharashtra    16.0  Mumbai   Mumbai   18.6291    72.8919       NaN  \n",
       "4  Maharashtra    16.0  Mumbai      NaN   19.0000    72.8333       NaN  "
      ]
     },
     "execution_count": 81,
     "metadata": {},
     "output_type": "execute_result"
    }
   ],
   "source": [
    "#Map Mumbai's Testing labs with latitude & Longitude:Key{PinCode}\n",
    "mumbai_labs_ll=mumbai_testing_labs.merge(mumbai_pincodes,how='left',on='Pincode',validate='m:1')\n",
    "mumbai_labs_ll.head()"
   ]
  },
  {
   "cell_type": "code",
   "execution_count": 82,
   "metadata": {},
   "outputs": [
    {
     "name": "stdout",
     "output_type": "stream",
     "text": [
      "The geograpical coordinate found for 400012,india.\n",
      "The geograpical coordinate found for 400034,india.\n",
      "The geograpical coordinate found for 400012,india.\n",
      "The geograpical coordinate found for 400008,india.\n",
      "The geograpical coordinate found for 400012,india.\n",
      "The geograpical coordinate found for 444001,india.\n",
      "The geograpical coordinate found for 400012,india.\n",
      "The geograpical coordinate found for 400053,india.\n",
      "The geograpical coordinate found for 400070,india.\n",
      "The geograpical coordinate found for 400062,india.\n",
      "The geograpical coordinate found for 411004,india.\n",
      "The geograpical coordinate found for 400053,india.\n",
      "The geograpical coordinate found for 400072,india.\n",
      "The geograpical coordinate found for 400012,india.\n",
      "The geograpical coordinate found for 400092,india.\n",
      "The geograpical coordinate found for 400080,india.\n",
      "The geograpical coordinate found for 400016,india.\n",
      "The geograpical coordinate found for 400064,india.\n",
      "The geograpical coordinate found for 400016,india.\n"
     ]
    }
   ],
   "source": [
    "lat=[]\n",
    "long=[]\n",
    "pincd=[]\n",
    "\n",
    "#address = 'Mumbai, india'\n",
    "for pincode in mumbai_labs_ll['Pincode']:\n",
    "    add= str(pincode) + ',india'\n",
    "    address = add\n",
    "    geolocator = Nominatim(user_agent=\"can_explorer\")\n",
    "    location = geolocator.geocode(address,timeout=15)\n",
    "    latitude = lat.append(location.latitude)\n",
    "    longitude =long.append(location.longitude)\n",
    "    pincd.append(pincode)\n",
    "    print('The geograpical coordinate found for {}.'.format(add))"
   ]
  },
  {
   "cell_type": "code",
   "execution_count": 83,
   "metadata": {},
   "outputs": [],
   "source": [
    "Mumbai_covid_labs = pd.DataFrame({\"Pincode\": pincd, \n",
    "                           \"Latitude\": lat,\n",
    "                           \"Longitude\": long})\n",
    "\n",
    "Mumbai_covid_labs.head()\n",
    "Mumbai_covid_labs.drop_duplicates('Pincode',inplace=True)"
   ]
  },
  {
   "cell_type": "code",
   "execution_count": 84,
   "metadata": {},
   "outputs": [
    {
     "data": {
      "text/html": [
       "<div>\n",
       "<style scoped>\n",
       "    .dataframe tbody tr th:only-of-type {\n",
       "        vertical-align: middle;\n",
       "    }\n",
       "\n",
       "    .dataframe tbody tr th {\n",
       "        vertical-align: top;\n",
       "    }\n",
       "\n",
       "    .dataframe thead th {\n",
       "        text-align: right;\n",
       "    }\n",
       "</style>\n",
       "<table border=\"1\" class=\"dataframe\">\n",
       "  <thead>\n",
       "    <tr style=\"text-align: right;\">\n",
       "      <th></th>\n",
       "      <th>lab</th>\n",
       "      <th>address</th>\n",
       "      <th>Pincode</th>\n",
       "      <th>city</th>\n",
       "      <th>state</th>\n",
       "      <th>type</th>\n",
       "      <th>Latitude</th>\n",
       "      <th>Longitude</th>\n",
       "    </tr>\n",
       "  </thead>\n",
       "  <tbody>\n",
       "    <tr>\n",
       "      <th>0</th>\n",
       "      <td>Seth GS Medical College &amp; KEM Hospital, Mumbai</td>\n",
       "      <td>Seth GS Medical College &amp; KEM Hospital, Achary...</td>\n",
       "      <td>400012</td>\n",
       "      <td>Mumbai</td>\n",
       "      <td>Maharashtra</td>\n",
       "      <td>Government Laboratory</td>\n",
       "      <td>19.000795</td>\n",
       "      <td>72.840147</td>\n",
       "    </tr>\n",
       "    <tr>\n",
       "      <th>1</th>\n",
       "      <td>Kasturba Hospital for Infectious Diseases, Mumbai</td>\n",
       "      <td>Kasturba Hospital for Infectious Diseases, San...</td>\n",
       "      <td>400034</td>\n",
       "      <td>Mumbai</td>\n",
       "      <td>Maharashtra</td>\n",
       "      <td>Government Laboratory</td>\n",
       "      <td>18.976686</td>\n",
       "      <td>72.812367</td>\n",
       "    </tr>\n",
       "    <tr>\n",
       "      <th>2</th>\n",
       "      <td>National Institute of Virology Field Unit, Mumbai</td>\n",
       "      <td>National Institute of Virology Field Unit, Haf...</td>\n",
       "      <td>400012</td>\n",
       "      <td>Mumbai</td>\n",
       "      <td>Maharashtra</td>\n",
       "      <td>Government Laboratory</td>\n",
       "      <td>19.000795</td>\n",
       "      <td>72.840147</td>\n",
       "    </tr>\n",
       "    <tr>\n",
       "      <th>3</th>\n",
       "      <td>Grant Medical College &amp; Sir JJ Hospital, Mumbai</td>\n",
       "      <td>Grant Medical College &amp; Sir JJ Hospital, J J M...</td>\n",
       "      <td>400008</td>\n",
       "      <td>Mumbai</td>\n",
       "      <td>Maharashtra</td>\n",
       "      <td>Government Laboratory</td>\n",
       "      <td>18.970566</td>\n",
       "      <td>72.833956</td>\n",
       "    </tr>\n",
       "    <tr>\n",
       "      <th>4</th>\n",
       "      <td>Haffkine Institute, Mumbai</td>\n",
       "      <td>Haffkine Institute, Acharya Donde Marg, Parel,...</td>\n",
       "      <td>400012</td>\n",
       "      <td>Mumbai</td>\n",
       "      <td>Maharashtra</td>\n",
       "      <td>Government Laboratory</td>\n",
       "      <td>19.000795</td>\n",
       "      <td>72.840147</td>\n",
       "    </tr>\n",
       "    <tr>\n",
       "      <th>5</th>\n",
       "      <td>Govt. Medical College, Akola</td>\n",
       "      <td>Govt. Medical College, Ashok Vatika, District ...</td>\n",
       "      <td>444001</td>\n",
       "      <td>Mumbai</td>\n",
       "      <td>Maharashtra</td>\n",
       "      <td>Government Laboratory</td>\n",
       "      <td>20.805243</td>\n",
       "      <td>77.107690</td>\n",
       "    </tr>\n",
       "    <tr>\n",
       "      <th>6</th>\n",
       "      <td>ICMR-National Institute for Research in Reprod...</td>\n",
       "      <td>ICMR-National Institute for Research in Reprod...</td>\n",
       "      <td>400012</td>\n",
       "      <td>Mumbai</td>\n",
       "      <td>Maharashtra</td>\n",
       "      <td>Government Laboratory</td>\n",
       "      <td>19.000795</td>\n",
       "      <td>72.840147</td>\n",
       "    </tr>\n",
       "    <tr>\n",
       "      <th>7</th>\n",
       "      <td>Suburban Diagnostics (India) Pvt. Ltd., Mumbai</td>\n",
       "      <td>Suburban Diagnostics (India) Pvt. Ltd., 2nd Fl...</td>\n",
       "      <td>400053</td>\n",
       "      <td>Mumbai</td>\n",
       "      <td>Maharashtra</td>\n",
       "      <td>Private Laboratory</td>\n",
       "      <td>19.144420</td>\n",
       "      <td>72.826612</td>\n",
       "    </tr>\n",
       "    <tr>\n",
       "      <th>8</th>\n",
       "      <td>Metropolis Healthcare Ltd, Mumbai</td>\n",
       "      <td>Metropolis Healthcare Ltd, 4th Floor, Commeric...</td>\n",
       "      <td>400070</td>\n",
       "      <td>Mumbai</td>\n",
       "      <td>Maharashtra</td>\n",
       "      <td>Private Laboratory</td>\n",
       "      <td>19.080472</td>\n",
       "      <td>72.883589</td>\n",
       "    </tr>\n",
       "    <tr>\n",
       "      <th>9</th>\n",
       "      <td>SRL Diagnostics, Goregaon West</td>\n",
       "      <td>SRL Diagnostics, Plot No 1, Prime Square build...</td>\n",
       "      <td>400062</td>\n",
       "      <td>Mumbai</td>\n",
       "      <td>Maharashtra</td>\n",
       "      <td>Private Laboratory</td>\n",
       "      <td>19.161465</td>\n",
       "      <td>72.848464</td>\n",
       "    </tr>\n",
       "    <tr>\n",
       "      <th>10</th>\n",
       "      <td>A.G Diagnostics Pvt Ltd, Pune</td>\n",
       "      <td>A.G Diagnostics Pvt Ltd, CTS No 809, F.P. 147,...</td>\n",
       "      <td>411004</td>\n",
       "      <td>Mumbai</td>\n",
       "      <td>Maharashtra</td>\n",
       "      <td>Private Laboratory</td>\n",
       "      <td>18.508727</td>\n",
       "      <td>73.830869</td>\n",
       "    </tr>\n",
       "    <tr>\n",
       "      <th>11</th>\n",
       "      <td>Kokilaben Dhirubhai Ambani Hospital Laboratory...</td>\n",
       "      <td>Kokilaben Dhirubhai Ambani Hospital Laboratory...</td>\n",
       "      <td>400053</td>\n",
       "      <td>Mumbai</td>\n",
       "      <td>Maharashtra</td>\n",
       "      <td>Private Laboratory</td>\n",
       "      <td>19.144420</td>\n",
       "      <td>72.826612</td>\n",
       "    </tr>\n",
       "    <tr>\n",
       "      <th>12</th>\n",
       "      <td>iGenetic Diagnostics Pvt. Ltd., Mumbai</td>\n",
       "      <td>iGenetic Diagnostics Pvt. Ltd., 1st Floor, kri...</td>\n",
       "      <td>400072</td>\n",
       "      <td>Mumbai</td>\n",
       "      <td>Maharashtra</td>\n",
       "      <td>Private Laboratory</td>\n",
       "      <td>19.098612</td>\n",
       "      <td>72.886596</td>\n",
       "    </tr>\n",
       "    <tr>\n",
       "      <th>13</th>\n",
       "      <td>Tata Memorial Centre Diagnostic Services, Tata...</td>\n",
       "      <td>Tata Memorial Centre Diagnostic Services, Tata...</td>\n",
       "      <td>400012</td>\n",
       "      <td>Mumbai</td>\n",
       "      <td>Maharashtra</td>\n",
       "      <td>Private Laboratory</td>\n",
       "      <td>19.000795</td>\n",
       "      <td>72.840147</td>\n",
       "    </tr>\n",
       "    <tr>\n",
       "      <th>14</th>\n",
       "      <td>Dr. Jariwala Laboratory &amp; Diagnostics LLP, Mumbai</td>\n",
       "      <td>Dr. Jariwala Laboratory &amp; Diagnostics LLP, 1st...</td>\n",
       "      <td>400092</td>\n",
       "      <td>Mumbai</td>\n",
       "      <td>Maharashtra</td>\n",
       "      <td>Private Laboratory</td>\n",
       "      <td>19.206161</td>\n",
       "      <td>72.785296</td>\n",
       "    </tr>\n",
       "    <tr>\n",
       "      <th>15</th>\n",
       "      <td>Qualilife Diagnostics, Mumbai</td>\n",
       "      <td>Qualilife Diagnostics, Balaji Arcade, 1st Floo...</td>\n",
       "      <td>400080</td>\n",
       "      <td>Mumbai</td>\n",
       "      <td>Maharashtra</td>\n",
       "      <td>Private Laboratory</td>\n",
       "      <td>19.173654</td>\n",
       "      <td>72.950411</td>\n",
       "    </tr>\n",
       "    <tr>\n",
       "      <th>16</th>\n",
       "      <td>SRL Diagnostics- Dr. Avinash Phadke (SRL Diagn...</td>\n",
       "      <td>SRL Diagnostics- Dr. Avinash Phadke (SRL Diagn...</td>\n",
       "      <td>400016</td>\n",
       "      <td>Mumbai</td>\n",
       "      <td>Maharashtra</td>\n",
       "      <td>Private Laboratory</td>\n",
       "      <td>19.029387</td>\n",
       "      <td>72.841742</td>\n",
       "    </tr>\n",
       "    <tr>\n",
       "      <th>17</th>\n",
       "      <td>Sunflower Laboratory And Diagnostic Center, Mu...</td>\n",
       "      <td>Sunflower Laboratory And Diagnostic Center, Ke...</td>\n",
       "      <td>400064</td>\n",
       "      <td>Mumbai</td>\n",
       "      <td>Maharashtra</td>\n",
       "      <td>Private Laboratory</td>\n",
       "      <td>19.195942</td>\n",
       "      <td>72.839677</td>\n",
       "    </tr>\n",
       "    <tr>\n",
       "      <th>18</th>\n",
       "      <td>Department of Laboratory Medicine – P.D. Hindu...</td>\n",
       "      <td>Department of Laboratory Medicine – P.D. Hindu...</td>\n",
       "      <td>400016</td>\n",
       "      <td>Mumbai</td>\n",
       "      <td>Maharashtra</td>\n",
       "      <td>Private Laboratory</td>\n",
       "      <td>19.029387</td>\n",
       "      <td>72.841742</td>\n",
       "    </tr>\n",
       "  </tbody>\n",
       "</table>\n",
       "</div>"
      ],
      "text/plain": [
       "                                                  lab  \\\n",
       "0      Seth GS Medical College & KEM Hospital, Mumbai   \n",
       "1   Kasturba Hospital for Infectious Diseases, Mumbai   \n",
       "2   National Institute of Virology Field Unit, Mumbai   \n",
       "3     Grant Medical College & Sir JJ Hospital, Mumbai   \n",
       "4                          Haffkine Institute, Mumbai   \n",
       "5                        Govt. Medical College, Akola   \n",
       "6   ICMR-National Institute for Research in Reprod...   \n",
       "7      Suburban Diagnostics (India) Pvt. Ltd., Mumbai   \n",
       "8                   Metropolis Healthcare Ltd, Mumbai   \n",
       "9                      SRL Diagnostics, Goregaon West   \n",
       "10                      A.G Diagnostics Pvt Ltd, Pune   \n",
       "11  Kokilaben Dhirubhai Ambani Hospital Laboratory...   \n",
       "12             iGenetic Diagnostics Pvt. Ltd., Mumbai   \n",
       "13  Tata Memorial Centre Diagnostic Services, Tata...   \n",
       "14  Dr. Jariwala Laboratory & Diagnostics LLP, Mumbai   \n",
       "15                      Qualilife Diagnostics, Mumbai   \n",
       "16  SRL Diagnostics- Dr. Avinash Phadke (SRL Diagn...   \n",
       "17  Sunflower Laboratory And Diagnostic Center, Mu...   \n",
       "18  Department of Laboratory Medicine – P.D. Hindu...   \n",
       "\n",
       "                                              address  Pincode    city  \\\n",
       "0   Seth GS Medical College & KEM Hospital, Achary...   400012  Mumbai   \n",
       "1   Kasturba Hospital for Infectious Diseases, San...   400034  Mumbai   \n",
       "2   National Institute of Virology Field Unit, Haf...   400012  Mumbai   \n",
       "3   Grant Medical College & Sir JJ Hospital, J J M...   400008  Mumbai   \n",
       "4   Haffkine Institute, Acharya Donde Marg, Parel,...   400012  Mumbai   \n",
       "5   Govt. Medical College, Ashok Vatika, District ...   444001  Mumbai   \n",
       "6   ICMR-National Institute for Research in Reprod...   400012  Mumbai   \n",
       "7   Suburban Diagnostics (India) Pvt. Ltd., 2nd Fl...   400053  Mumbai   \n",
       "8   Metropolis Healthcare Ltd, 4th Floor, Commeric...   400070  Mumbai   \n",
       "9   SRL Diagnostics, Plot No 1, Prime Square build...   400062  Mumbai   \n",
       "10  A.G Diagnostics Pvt Ltd, CTS No 809, F.P. 147,...   411004  Mumbai   \n",
       "11  Kokilaben Dhirubhai Ambani Hospital Laboratory...   400053  Mumbai   \n",
       "12  iGenetic Diagnostics Pvt. Ltd., 1st Floor, kri...   400072  Mumbai   \n",
       "13  Tata Memorial Centre Diagnostic Services, Tata...   400012  Mumbai   \n",
       "14  Dr. Jariwala Laboratory & Diagnostics LLP, 1st...   400092  Mumbai   \n",
       "15  Qualilife Diagnostics, Balaji Arcade, 1st Floo...   400080  Mumbai   \n",
       "16  SRL Diagnostics- Dr. Avinash Phadke (SRL Diagn...   400016  Mumbai   \n",
       "17  Sunflower Laboratory And Diagnostic Center, Ke...   400064  Mumbai   \n",
       "18  Department of Laboratory Medicine – P.D. Hindu...   400016  Mumbai   \n",
       "\n",
       "          state                   type   Latitude  Longitude  \n",
       "0   Maharashtra  Government Laboratory  19.000795  72.840147  \n",
       "1   Maharashtra  Government Laboratory  18.976686  72.812367  \n",
       "2   Maharashtra  Government Laboratory  19.000795  72.840147  \n",
       "3   Maharashtra  Government Laboratory  18.970566  72.833956  \n",
       "4   Maharashtra  Government Laboratory  19.000795  72.840147  \n",
       "5   Maharashtra  Government Laboratory  20.805243  77.107690  \n",
       "6   Maharashtra  Government Laboratory  19.000795  72.840147  \n",
       "7   Maharashtra     Private Laboratory  19.144420  72.826612  \n",
       "8   Maharashtra     Private Laboratory  19.080472  72.883589  \n",
       "9   Maharashtra     Private Laboratory  19.161465  72.848464  \n",
       "10  Maharashtra     Private Laboratory  18.508727  73.830869  \n",
       "11  Maharashtra     Private Laboratory  19.144420  72.826612  \n",
       "12  Maharashtra     Private Laboratory  19.098612  72.886596  \n",
       "13  Maharashtra     Private Laboratory  19.000795  72.840147  \n",
       "14  Maharashtra     Private Laboratory  19.206161  72.785296  \n",
       "15  Maharashtra     Private Laboratory  19.173654  72.950411  \n",
       "16  Maharashtra     Private Laboratory  19.029387  72.841742  \n",
       "17  Maharashtra     Private Laboratory  19.195942  72.839677  \n",
       "18  Maharashtra     Private Laboratory  19.029387  72.841742  "
      ]
     },
     "execution_count": 84,
     "metadata": {},
     "output_type": "execute_result"
    }
   ],
   "source": [
    "mumbai_labs_final=mumbai_testing_labs.merge(Mumbai_covid_labs,how='left',on='Pincode',validate='m:1')\n",
    "mumbai_labs_final.dropna(inplace=True)\n",
    "mumbai_labs_final"
   ]
  },
  {
   "cell_type": "code",
   "execution_count": 85,
   "metadata": {},
   "outputs": [
    {
     "name": "stdout",
     "output_type": "stream",
     "text": [
      "The geograpical coordinate found for  Mumbai,India Lat: 18.9387711 Long:72.8353355\n"
     ]
    }
   ],
   "source": [
    "address = ' Mumbai,India'\n",
    "geolocator = Nominatim(user_agent=\"can_explorer\")\n",
    "location = geolocator.geocode(address,timeout=15)\n",
    "latitude = location.latitude\n",
    "longitude =location.longitude\n",
    "print('The geograpical coordinate found for {} Lat: {} Long:{}'.format(address,latitude,longitude))"
   ]
  },
  {
   "cell_type": "markdown",
   "metadata": {},
   "source": [
    "# Find Data for Hospitals using FourSquare Location API\n",
    "Category ID is used to find a particular type of veune in neighbourhood\n",
    "Refer https://developer.foursquare.com/docs/build-with-foursquare/categories/ for more details on venue category Ids\n",
    "Category Id for Hospitals = 4bf58dd8d48988d196941735"
   ]
  },
  {
   "cell_type": "code",
   "execution_count": 86,
   "metadata": {},
   "outputs": [
    {
     "name": "stdout",
     "output_type": "stream",
     "text": [
      "Your credentails:\n",
      "CLIENT_ID: ZVLUP1PU41P2XVZN1R15EWMRBMOUU5MA3HTHOYKFKZTHWMYJ\n",
      "CLIENT_SECRET:ST0MKT1KNGXTV5PXYGRDHNUHA5XRYKTM5V4NGUQG4FHEP245\n"
     ]
    }
   ],
   "source": [
    "LIMIT = 100\n",
    "\n",
    "CLIENT_ID = 'ZVLUP1PU41P2XVZN1R15EWMRBMOUU5MA3HTHOYKFKZTHWMYJ' # your Foursquare ID\n",
    "CLIENT_SECRET = 'ST0MKT1KNGXTV5PXYGRDHNUHA5XRYKTM5V4NGUQG4FHEP245' # your Foursquare Secret\n",
    "VERSION = '20180605' # Foursquare API version\n",
    "CATEGORYID='4bf58dd8d48988d196941735'\n",
    "\n",
    "print('Your credentails:')\n",
    "print('CLIENT_ID: ' + CLIENT_ID)\n",
    "print('CLIENT_SECRET:' + CLIENT_SECRET)\n",
    "lat='19.25023195'\n",
    "lng='73.16017493'\n",
    "radius=500"
   ]
  },
  {
   "cell_type": "code",
   "execution_count": 87,
   "metadata": {},
   "outputs": [
    {
     "data": {
      "text/plain": [
       "{'confident': False,\n",
       " 'venues': [{'categories': [{'icon': {'prefix': 'https://ss3.4sqi.net/img/categories_v2/building/medical_',\n",
       "      'suffix': '.png'},\n",
       "     'id': '4bf58dd8d48988d196941735',\n",
       "     'name': 'Hospital',\n",
       "     'pluralName': 'Hospitals',\n",
       "     'primary': True,\n",
       "     'shortName': 'Hospital'}],\n",
       "   'hasPerk': False,\n",
       "   'id': '4dd672981f6ee1468309251d',\n",
       "   'location': {'address': 'Dr E Borges Marg, Parel',\n",
       "    'cc': 'IN',\n",
       "    'city': 'Mumbai',\n",
       "    'country': 'India',\n",
       "    'distance': 88,\n",
       "    'formattedAddress': ['Dr E Borges Marg, Parel',\n",
       "     'Mumbai',\n",
       "     'Mahārāshtra',\n",
       "     'India'],\n",
       "    'labeledLatLngs': [{'label': 'display',\n",
       "      'lat': 19.00264397391697,\n",
       "      'lng': 72.8412751306918}],\n",
       "    'lat': 19.00264397391697,\n",
       "    'lng': 72.8412751306918,\n",
       "    'state': 'Mahārāshtra'},\n",
       "   'name': 'KEM Hospital',\n",
       "   'referralId': 'v-1587885435'},\n",
       "  {'categories': [{'icon': {'prefix': 'https://ss3.4sqi.net/img/categories_v2/building/medical_',\n",
       "      'suffix': '.png'},\n",
       "     'id': '4bf58dd8d48988d1b3941735',\n",
       "     'name': 'Medical School',\n",
       "     'pluralName': 'Medical Schools',\n",
       "     'primary': True,\n",
       "     'shortName': 'Medical School'}],\n",
       "   'hasPerk': False,\n",
       "   'id': '4cda35ed39172d43e29181d8',\n",
       "   'location': {'address': 'Parel',\n",
       "    'cc': 'IN',\n",
       "    'city': 'Mumbai',\n",
       "    'country': 'India',\n",
       "    'crossStreet': 'at Acharya Donde Marg',\n",
       "    'distance': 23,\n",
       "    'formattedAddress': ['Parel (at Acharya Donde Marg)',\n",
       "     'Mumbai 400012',\n",
       "     'Mahārāshtra',\n",
       "     'India'],\n",
       "    'labeledLatLngs': [{'label': 'display',\n",
       "      'lat': 19.00228537906406,\n",
       "      'lng': 72.84210195639147}],\n",
       "    'lat': 19.00228537906406,\n",
       "    'lng': 72.84210195639147,\n",
       "    'postalCode': '400012',\n",
       "    'state': 'Mahārāshtra'},\n",
       "   'name': 'Seth GS Medical College & KEM Hospital',\n",
       "   'referralId': 'v-1587885435'},\n",
       "  {'categories': [{'icon': {'prefix': 'https://ss3.4sqi.net/img/categories_v2/building/medical_',\n",
       "      'suffix': '.png'},\n",
       "     'id': '4bf58dd8d48988d196941735',\n",
       "     'name': 'Hospital',\n",
       "     'pluralName': 'Hospitals',\n",
       "     'primary': True,\n",
       "     'shortName': 'Hospital'}],\n",
       "   'hasPerk': False,\n",
       "   'id': '4d58f5734f9bcbffe627fb39',\n",
       "   'location': {'address': 'Acharya Dhonde Marg',\n",
       "    'cc': 'IN',\n",
       "    'city': 'Mumbai',\n",
       "    'country': 'India',\n",
       "    'crossStreet': 'Opp. KEM Hospital, Parel',\n",
       "    'distance': 86,\n",
       "    'formattedAddress': ['Acharya Dhonde Marg (Opp. KEM Hospital, Parel)',\n",
       "     'Mumbai 400012',\n",
       "     'Mahārāshtra',\n",
       "     'India'],\n",
       "    'labeledLatLngs': [{'label': 'display',\n",
       "      'lat': 19.00279972801678,\n",
       "      'lng': 72.84285603104077}],\n",
       "    'lat': 19.00279972801678,\n",
       "    'lng': 72.84285603104077,\n",
       "    'postalCode': '400012',\n",
       "    'state': 'Mahārāshtra'},\n",
       "   'name': 'Nowrosjee Wadia Maternity Hospital',\n",
       "   'referralId': 'v-1587885435'},\n",
       "  {'categories': [{'icon': {'prefix': 'https://ss3.4sqi.net/img/categories_v2/building/medical_',\n",
       "      'suffix': '.png'},\n",
       "     'id': '4bf58dd8d48988d196941735',\n",
       "     'name': 'Hospital',\n",
       "     'pluralName': 'Hospitals',\n",
       "     'primary': True,\n",
       "     'shortName': 'Hospital'}],\n",
       "   'hasPerk': False,\n",
       "   'id': '536075cf498ef2b1e08c7df1',\n",
       "   'location': {'address': 'Acharya Donde Marg',\n",
       "    'cc': 'IN',\n",
       "    'city': 'Mumbai',\n",
       "    'country': 'India',\n",
       "    'crossStreet': 'Parel',\n",
       "    'distance': 94,\n",
       "    'formattedAddress': ['Acharya Donde Marg (Parel)',\n",
       "     'Mumbai 400012',\n",
       "     'Mahārāshtra',\n",
       "     'India'],\n",
       "    'labeledLatLngs': [{'label': 'display',\n",
       "      'lat': 19.00323623315139,\n",
       "      'lng': 72.8416617021637}],\n",
       "    'lat': 19.00323623315139,\n",
       "    'lng': 72.8416617021637,\n",
       "    'postalCode': '400012',\n",
       "    'state': 'Mahārāshtra'},\n",
       "   'name': 'Wadia Hospitals',\n",
       "   'referralId': 'v-1587885435'},\n",
       "  {'categories': [{'icon': {'prefix': 'https://ss3.4sqi.net/img/categories_v2/building/medical_',\n",
       "      'suffix': '.png'},\n",
       "     'id': '4bf58dd8d48988d196941735',\n",
       "     'name': 'Hospital',\n",
       "     'pluralName': 'Hospitals',\n",
       "     'primary': True,\n",
       "     'shortName': 'Hospital'}],\n",
       "   'hasPerk': False,\n",
       "   'id': '4b0587e5f964a52032a622e3',\n",
       "   'location': {'address': 'Dr Ernest Borges Road',\n",
       "    'cc': 'IN',\n",
       "    'city': 'Mumbai',\n",
       "    'country': 'India',\n",
       "    'distance': 348,\n",
       "    'formattedAddress': ['Dr Ernest Borges Road',\n",
       "     'Mumbai 400 012',\n",
       "     'Mahārāshtra',\n",
       "     'India'],\n",
       "    'labeledLatLngs': [{'label': 'display',\n",
       "      'lat': 19.005103729353593,\n",
       "      'lng': 72.84026905898314}],\n",
       "    'lat': 19.005103729353593,\n",
       "    'lng': 72.84026905898314,\n",
       "    'postalCode': '400 012',\n",
       "    'state': 'Mahārāshtra'},\n",
       "   'name': 'Tata Memorial Centre',\n",
       "   'referralId': 'v-1587885435'},\n",
       "  {'categories': [{'icon': {'prefix': 'https://ss3.4sqi.net/img/categories_v2/building/medical_',\n",
       "      'suffix': '.png'},\n",
       "     'id': '4bf58dd8d48988d196941735',\n",
       "     'name': 'Hospital',\n",
       "     'pluralName': 'Hospitals',\n",
       "     'primary': True,\n",
       "     'shortName': 'Hospital'}],\n",
       "   'hasPerk': False,\n",
       "   'id': '567f7f78498e515873ebaa88',\n",
       "   'location': {'cc': 'IN',\n",
       "    'country': 'India',\n",
       "    'distance': 239,\n",
       "    'formattedAddress': ['India'],\n",
       "    'labeledLatLngs': [{'label': 'display',\n",
       "      'lat': 19.004414214143676,\n",
       "      'lng': 72.84106742039359}],\n",
       "    'lat': 19.004414214143676,\n",
       "    'lng': 72.84106742039359,\n",
       "    'neighborhood': 'Parel'},\n",
       "   'name': 'Bai Jerbai Wadia Hospital For Children',\n",
       "   'referralId': 'v-1587885435'},\n",
       "  {'categories': [{'icon': {'prefix': 'https://ss3.4sqi.net/img/categories_v2/building/medical_',\n",
       "      'suffix': '.png'},\n",
       "     'id': '4bf58dd8d48988d196941735',\n",
       "     'name': 'Hospital',\n",
       "     'pluralName': 'Hospitals',\n",
       "     'primary': True,\n",
       "     'shortName': 'Hospital'}],\n",
       "   'hasPerk': False,\n",
       "   'id': '4b9b96b2f964a520bd1136e3',\n",
       "   'location': {'address': 'Parel',\n",
       "    'cc': 'IN',\n",
       "    'city': 'Mumbai',\n",
       "    'country': 'India',\n",
       "    'distance': 258,\n",
       "    'formattedAddress': ['Parel', 'Mumbai', 'Mahārāshtra', 'India'],\n",
       "    'labeledLatLngs': [{'label': 'display',\n",
       "      'lat': 19.004708255708742,\n",
       "      'lng': 72.84286853202218}],\n",
       "    'lat': 19.004708255708742,\n",
       "    'lng': 72.84286853202218,\n",
       "    'state': 'Mahārāshtra'},\n",
       "   'name': 'Tata Memorial Hospital',\n",
       "   'referralId': 'v-1587885435'},\n",
       "  {'categories': [{'icon': {'prefix': 'https://ss3.4sqi.net/img/categories_v2/building/medical_',\n",
       "      'suffix': '.png'},\n",
       "     'id': '4bf58dd8d48988d196941735',\n",
       "     'name': 'Hospital',\n",
       "     'pluralName': 'Hospitals',\n",
       "     'primary': True,\n",
       "     'shortName': 'Hospital'}],\n",
       "   'hasPerk': False,\n",
       "   'id': '5142d760e4b0f685d3419791',\n",
       "   'location': {'cc': 'IN',\n",
       "    'city': 'Mumbai',\n",
       "    'country': 'India',\n",
       "    'distance': 384,\n",
       "    'formattedAddress': ['Mumbai', 'Mahārāshtra', 'India'],\n",
       "    'labeledLatLngs': [{'label': 'display',\n",
       "      'lat': 18.99929415563421,\n",
       "      'lng': 72.8407346988817}],\n",
       "    'lat': 18.99929415563421,\n",
       "    'lng': 72.8407346988817,\n",
       "    'state': 'Mahārāshtra'},\n",
       "   'name': 'Global Hospitals',\n",
       "   'referralId': 'v-1587885435'},\n",
       "  {'categories': [{'icon': {'prefix': 'https://ss3.4sqi.net/img/categories_v2/building/medical_',\n",
       "      'suffix': '.png'},\n",
       "     'id': '4bf58dd8d48988d196941735',\n",
       "     'name': 'Hospital',\n",
       "     'pluralName': 'Hospitals',\n",
       "     'primary': True,\n",
       "     'shortName': 'Hospital'}],\n",
       "   'hasPerk': False,\n",
       "   'id': '502150e6e4b00233023e2e6f',\n",
       "   'location': {'address': 'Parel',\n",
       "    'cc': 'IN',\n",
       "    'city': 'Mumbai',\n",
       "    'country': 'India',\n",
       "    'crossStreet': 'Bhoiwada junction',\n",
       "    'distance': 479,\n",
       "    'formattedAddress': ['Parel (Bhoiwada junction)',\n",
       "     'Mumbai',\n",
       "     'Mahārāshtra',\n",
       "     'India'],\n",
       "    'labeledLatLngs': [{'label': 'display',\n",
       "      'lat': 19.00576416659502,\n",
       "      'lng': 72.8450658124881}],\n",
       "    'lat': 19.00576416659502,\n",
       "    'lng': 72.8450658124881,\n",
       "    'state': 'Mahārāshtra'},\n",
       "   'name': 'Parel Hospital',\n",
       "   'referralId': 'v-1587885435'},\n",
       "  {'categories': [{'icon': {'prefix': 'https://ss3.4sqi.net/img/categories_v2/building/medical_',\n",
       "      'suffix': '.png'},\n",
       "     'id': '4bf58dd8d48988d196941735',\n",
       "     'name': 'Hospital',\n",
       "     'pluralName': 'Hospitals',\n",
       "     'primary': True,\n",
       "     'shortName': 'Hospital'}],\n",
       "   'hasPerk': False,\n",
       "   'id': '523be97211d2c0cab6d54f91',\n",
       "   'location': {'cc': 'IN',\n",
       "    'country': 'India',\n",
       "    'distance': 529,\n",
       "    'formattedAddress': ['India'],\n",
       "    'labeledLatLngs': [{'label': 'display',\n",
       "      'lat': 18.997744,\n",
       "      'lng': 72.841951}],\n",
       "    'lat': 18.997744,\n",
       "    'lng': 72.841951},\n",
       "   'name': 'Mahatma Gandhi Memorial Hospital',\n",
       "   'referralId': 'v-1587885435'}]}"
      ]
     },
     "execution_count": 87,
     "metadata": {},
     "output_type": "execute_result"
    }
   ],
   "source": [
    " # create the API request URL\n",
    "radius=500\n",
    "latitude=19.0025 #Mumbai\n",
    "longitude=72.8421 #Mumbai\n",
    "#for latitude,longitude in zip(mumbai_covid_clusters['Latitude'],mumbai_covid_clusters['Longitude']):\n",
    "url = 'https://api.foursquare.com/v2/venues/search?categoryId={}&client_id={}&client_secret={}&v={}&ll={},{}&radius={}&limit={}'.format(CATEGORYID,CLIENT_ID,  CLIENT_SECRET, VERSION, latitude, longitude, radius, LIMIT)\n",
    "results = requests.get(url).json()[\"response\"]#['groups'][0]['items']\n",
    "    #results = requests.get(url).json()\n",
    "results"
   ]
  },
  {
   "cell_type": "code",
   "execution_count": 88,
   "metadata": {},
   "outputs": [
    {
     "data": {
      "text/html": [
       "<div style=\"width:100%;\"><div style=\"position:relative;width:100%;height:0;padding-bottom:60%;\"><iframe src=\"data:text/html;charset=utf-8;base64,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\" style=\"position:absolute;width:100%;height:100%;left:0;top:0;border:none !important;\" allowfullscreen webkitallowfullscreen mozallowfullscreen></iframe></div></div>"
      ],
      "text/plain": [
       "<folium.folium.Map at 0x7f3c145d56a0>"
      ]
     },
     "execution_count": 88,
     "metadata": {},
     "output_type": "execute_result"
    }
   ],
   "source": [
    "#Plot Toronto city on Map using folium\n",
    "mumbai_labs= folium.Map(location=[latitude, longitude], zoom_start=9)\n",
    "for lat, lng, Pincode, lab,typeh in zip(mumbai_labs_final['Latitude'], mumbai_labs_final['Longitude'], mumbai_labs_final['Pincode'], mumbai_labs_final['lab'],mumbai_labs_final['type']):\n",
    "    label = '{}, {},{}'.format(Pincode,lab,typeh)\n",
    "    label = folium.Popup(label, parse_html=True)\n",
    "    if typeh =='Private Laboratory':\n",
    "        val='blue'\n",
    "    else:\n",
    "        val='green'\n",
    "    \n",
    "\n",
    "    folium.CircleMarker(\n",
    "        [lat, lng],\n",
    "        radius=5,\n",
    "        popup=label,\n",
    "        color=val,\n",
    "        fill=True,\n",
    "        fill_color='#3186cc',\n",
    "        fill_opacity=0.7,\n",
    "        parse_html=False).add_to(mumbai_labs)  \n",
    "\n",
    "mumbai_labs"
   ]
  },
  {
   "cell_type": "code",
   "execution_count": 89,
   "metadata": {},
   "outputs": [],
   "source": [
    "covid19_zones=covid19_mumbai"
   ]
  },
  {
   "cell_type": "code",
   "execution_count": 90,
   "metadata": {},
   "outputs": [],
   "source": [
    "covid19_zones.drop_duplicates('Pincode',inplace=True)"
   ]
  },
  {
   "cell_type": "code",
   "execution_count": 91,
   "metadata": {},
   "outputs": [
    {
     "data": {
      "text/plain": [
       "(81, 12)"
      ]
     },
     "execution_count": 91,
     "metadata": {},
     "output_type": "execute_result"
    }
   ],
   "source": [
    "covid19_zones.shape"
   ]
  },
  {
   "cell_type": "code",
   "execution_count": 92,
   "metadata": {},
   "outputs": [
    {
     "data": {
      "text/html": [
       "<div>\n",
       "<style scoped>\n",
       "    .dataframe tbody tr th:only-of-type {\n",
       "        vertical-align: middle;\n",
       "    }\n",
       "\n",
       "    .dataframe tbody tr th {\n",
       "        vertical-align: top;\n",
       "    }\n",
       "\n",
       "    .dataframe thead th {\n",
       "        text-align: right;\n",
       "    }\n",
       "</style>\n",
       "<table border=\"1\" class=\"dataframe\">\n",
       "  <thead>\n",
       "    <tr style=\"text-align: right;\">\n",
       "      <th></th>\n",
       "      <th>Ward</th>\n",
       "      <th>Pincode</th>\n",
       "      <th>Address</th>\n",
       "      <th>Unnamed: 0</th>\n",
       "      <th>Area</th>\n",
       "      <th>State</th>\n",
       "      <th>Number</th>\n",
       "      <th>Region</th>\n",
       "      <th>Area_Tag</th>\n",
       "      <th>Latitude</th>\n",
       "      <th>Longitude</th>\n",
       "      <th>BMC_Ward</th>\n",
       "    </tr>\n",
       "  </thead>\n",
       "  <tbody>\n",
       "    <tr>\n",
       "      <th>0</th>\n",
       "      <td>A</td>\n",
       "      <td>400001</td>\n",
       "      <td>Blossoms,ModiStrret,OppFishMarket,Fort</td>\n",
       "      <td>1.0</td>\n",
       "      <td>Mumbai G.P.O.</td>\n",
       "      <td>Maharashtra</td>\n",
       "      <td>16.0</td>\n",
       "      <td>Mumbai</td>\n",
       "      <td>Mumbai</td>\n",
       "      <td>18.6291</td>\n",
       "      <td>72.8919</td>\n",
       "      <td>NaN</td>\n",
       "    </tr>\n",
       "    <tr>\n",
       "      <th>2</th>\n",
       "      <td>A</td>\n",
       "      <td>400005</td>\n",
       "      <td>AbbasBuilding,BKBomanBehramMarg,BackSideOfTajH...</td>\n",
       "      <td>5.0</td>\n",
       "      <td>Colaba</td>\n",
       "      <td>Maharashtra</td>\n",
       "      <td>16.0</td>\n",
       "      <td>Mumbai</td>\n",
       "      <td>Mumbai</td>\n",
       "      <td>18.9069</td>\n",
       "      <td>72.8106</td>\n",
       "      <td>NaN</td>\n",
       "    </tr>\n",
       "    <tr>\n",
       "      <th>11</th>\n",
       "      <td>A</td>\n",
       "      <td>400020</td>\n",
       "      <td>BirlaMatoshreeQuarters,BomabyHospitalPremises,...</td>\n",
       "      <td>73.0</td>\n",
       "      <td>Central Building</td>\n",
       "      <td>Maharashtra</td>\n",
       "      <td>16.0</td>\n",
       "      <td>Mumbai</td>\n",
       "      <td>Mumbai</td>\n",
       "      <td>18.9860</td>\n",
       "      <td>72.8259</td>\n",
       "      <td>NaN</td>\n",
       "    </tr>\n",
       "    <tr>\n",
       "      <th>12</th>\n",
       "      <td>A</td>\n",
       "      <td>400021</td>\n",
       "      <td>GaribJanataNagar,BadhwarPark,CaptainPrakashPet...</td>\n",
       "      <td>74.0</td>\n",
       "      <td>Nariman Point</td>\n",
       "      <td>Maharashtra</td>\n",
       "      <td>16.0</td>\n",
       "      <td>Mumbai</td>\n",
       "      <td>Mumbai</td>\n",
       "      <td>18.9274</td>\n",
       "      <td>72.8241</td>\n",
       "      <td>NaN</td>\n",
       "    </tr>\n",
       "    <tr>\n",
       "      <th>14</th>\n",
       "      <td>B</td>\n",
       "      <td>400003</td>\n",
       "      <td>HajiMansion,TantanpuraRd,</td>\n",
       "      <td>3.0</td>\n",
       "      <td>Mandvi (Mumbai)</td>\n",
       "      <td>Maharashtra</td>\n",
       "      <td>16.0</td>\n",
       "      <td>Mumbai</td>\n",
       "      <td>NaN</td>\n",
       "      <td>18.9500</td>\n",
       "      <td>72.8333</td>\n",
       "      <td>NaN</td>\n",
       "    </tr>\n",
       "  </tbody>\n",
       "</table>\n",
       "</div>"
      ],
      "text/plain": [
       "   Ward  Pincode                                            Address  \\\n",
       "0    A    400001             Blossoms,ModiStrret,OppFishMarket,Fort   \n",
       "2    A    400005  AbbasBuilding,BKBomanBehramMarg,BackSideOfTajH...   \n",
       "11   A    400020  BirlaMatoshreeQuarters,BomabyHospitalPremises,...   \n",
       "12   A    400021  GaribJanataNagar,BadhwarPark,CaptainPrakashPet...   \n",
       "14   B    400003                          HajiMansion,TantanpuraRd,   \n",
       "\n",
       "    Unnamed: 0              Area        State  Number  Region Area_Tag  \\\n",
       "0          1.0     Mumbai G.P.O.  Maharashtra    16.0  Mumbai   Mumbai   \n",
       "2          5.0            Colaba  Maharashtra    16.0  Mumbai   Mumbai   \n",
       "11        73.0  Central Building  Maharashtra    16.0  Mumbai   Mumbai   \n",
       "12        74.0     Nariman Point  Maharashtra    16.0  Mumbai   Mumbai   \n",
       "14         3.0   Mandvi (Mumbai)  Maharashtra    16.0  Mumbai      NaN   \n",
       "\n",
       "    Latitude  Longitude  BMC_Ward  \n",
       "0    18.6291    72.8919       NaN  \n",
       "2    18.9069    72.8106       NaN  \n",
       "11   18.9860    72.8259       NaN  \n",
       "12   18.9274    72.8241       NaN  \n",
       "14   18.9500    72.8333       NaN  "
      ]
     },
     "execution_count": 92,
     "metadata": {},
     "output_type": "execute_result"
    }
   ],
   "source": [
    "covid19_zones.head()"
   ]
  },
  {
   "cell_type": "code",
   "execution_count": 93,
   "metadata": {},
   "outputs": [
    {
     "data": {
      "text/plain": [
       "array(['A ', 'B ', 'C ', 'D ', 'E ', 'FN', 'GN', 'GS', 'HE', 'HW', 'KW',\n",
       "       'L ', 'ME', 'MW', 'N ', 'PN', 'PS', 'RC', 'RS', 'S ', 'T '],\n",
       "      dtype=object)"
      ]
     },
     "execution_count": 93,
     "metadata": {},
     "output_type": "execute_result"
    }
   ],
   "source": [
    "zn=covid19_zones['Ward'].unique()\n",
    "zn"
   ]
  },
  {
   "cell_type": "code",
   "execution_count": 94,
   "metadata": {},
   "outputs": [],
   "source": [
    "covid19_zones\n",
    "covid19_zones.dropna(subset=['Latitude', 'Longitude'],inplace=True)"
   ]
  },
  {
   "cell_type": "code",
   "execution_count": 95,
   "metadata": {},
   "outputs": [
    {
     "data": {
      "text/plain": [
       "(79, 12)"
      ]
     },
     "execution_count": 95,
     "metadata": {},
     "output_type": "execute_result"
    }
   ],
   "source": [
    "covid19_zones.shape"
   ]
  },
  {
   "cell_type": "code",
   "execution_count": 96,
   "metadata": {
    "scrolled": true
   },
   "outputs": [
    {
     "data": {
      "text/html": [
       "<div style=\"width:100%;\"><div style=\"position:relative;width:100%;height:0;padding-bottom:60%;\"><iframe src=\"data:text/html;charset=utf-8;base64,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\" style=\"position:absolute;width:100%;height:100%;left:0;top:0;border:none !important;\" allowfullscreen webkitallowfullscreen mozallowfullscreen></iframe></div></div>"
      ],
      "text/plain": [
       "<folium.folium.Map at 0x7f3c1421de80>"
      ]
     },
     "execution_count": 96,
     "metadata": {},
     "output_type": "execute_result"
    }
   ],
   "source": [
    "#Plot Mumbai City Covid-19 Zones on Map using folium\n",
    "mumbai_19= folium.Map(location=[latitude, longitude], zoom_start=10)\n",
    "\n",
    "x = np.arange(21)\n",
    "ys = [i + x + (i*x)**2 for i in range(21)]\n",
    "colors_array = cm.rainbow(np.linspace(0, 1, len(ys)))\n",
    "rainbow = [colors.rgb2hex(i) for i in colors_array]\n",
    "colors_fl = [\n",
    "    'red',\n",
    "    'blue',\n",
    "    'gray',\n",
    "    'darkred',\n",
    "    'lightred',\n",
    "    'orange',\n",
    "    'beige',\n",
    "    'green',\n",
    "    'darkgreen',\n",
    "    'lightgreen',\n",
    "    'darkblue',\n",
    "    'lightblue',\n",
    "    'purple',\n",
    "    'darkpurple',\n",
    "    'pink',\n",
    "    'cadetblue',\n",
    "    'lightgray',\n",
    "    'black',\n",
    "    'darkyellow',\n",
    "    'lightyello',\n",
    "    'yellow'\n",
    "]\n",
    "for lat, lng, Pincode,ward,address in zip(covid19_zones['Latitude'], covid19_zones['Longitude'], covid19_zones['Pincode'], covid19_zones['Ward'],covid19_zones['Address']):\n",
    "    label = '{}, {},{}'.format(Pincode,ward,address)\n",
    "    label = folium.Popup(label, parse_html=True)\n",
    "    folium.CircleMarker(\n",
    "        [lat, lng],\n",
    "        radius=5,\n",
    "        popup=label,\n",
    "        color='red',\n",
    "        fill=True,\n",
    "        fill_color='#3186cc',\n",
    "        fill_opacity=0.7,\n",
    "        parse_html=False).add_to(mumbai_19)  \n",
    "\n",
    "mumbai_19"
   ]
  },
  {
   "cell_type": "code",
   "execution_count": 97,
   "metadata": {},
   "outputs": [
    {
     "data": {
      "text/plain": [
       "(721, 3)"
      ]
     },
     "execution_count": 97,
     "metadata": {},
     "output_type": "execute_result"
    }
   ],
   "source": [
    "covid_zones_mumbai.shape"
   ]
  },
  {
   "cell_type": "code",
   "execution_count": 98,
   "metadata": {},
   "outputs": [],
   "source": [
    "covid_mumbai_wards=covid_zones_mumbai"
   ]
  },
  {
   "cell_type": "code",
   "execution_count": 99,
   "metadata": {},
   "outputs": [
    {
     "data": {
      "text/plain": [
       "(721, 3)"
      ]
     },
     "execution_count": 99,
     "metadata": {},
     "output_type": "execute_result"
    }
   ],
   "source": [
    "covid_mumbai_wards.shape"
   ]
  },
  {
   "cell_type": "code",
   "execution_count": 100,
   "metadata": {},
   "outputs": [],
   "source": [
    "ward_group=covid_mumbai_wards.groupby('Ward')['Address'].count().reset_index()"
   ]
  },
  {
   "cell_type": "code",
   "execution_count": 101,
   "metadata": {},
   "outputs": [],
   "source": [
    "ward_group.rename(columns={\"Address\": \"Cases_Count\"},inplace=True)"
   ]
  },
  {
   "cell_type": "code",
   "execution_count": 102,
   "metadata": {},
   "outputs": [
    {
     "data": {
      "text/plain": [
       "Index(['Ward', 'Cases_Count'], dtype='object')"
      ]
     },
     "execution_count": 102,
     "metadata": {},
     "output_type": "execute_result"
    }
   ],
   "source": [
    "ward_group.columns"
   ]
  },
  {
   "cell_type": "code",
   "execution_count": 103,
   "metadata": {},
   "outputs": [
    {
     "data": {
      "image/png": "[encoded data removed]",
      "text/plain": [
       "<Figure size 1080x576 with 1 Axes>"
      ]
     },
     "metadata": {},
     "output_type": "display_data"
    }
   ],
   "source": [
    "f, ax = plt.subplots(figsize=(15, 8))\n",
    "data = ward_group[['Ward','Cases_Count']]\n",
    "data.sort_values('Ward',ascending=False,inplace=True)\n",
    "sns.set_color_codes(\"pastel\")\n",
    "sns.barplot(x=\"Ward\", y=\"Cases_Count\", data=data,\n",
    "            label=\"Total\", color=\"r\")\n",
    "\n",
    "            \n",
    "\n",
    "# Add a legend and informative axis label\n",
    "ax.legend(ncol=2, loc=\"lower right\", frameon=True)\n",
    "ax.set(xlim=(0, 10), ylabel=\"\",\n",
    "       xlabel=\"Cases\")\n",
    "sns.despine(left=True, bottom=True)\n",
    "plt.show()"
   ]
  },
  {
   "cell_type": "code",
   "execution_count": 104,
   "metadata": {},
   "outputs": [],
   "source": [
    "postal_cd=mumbai_pincodes"
   ]
  },
  {
   "cell_type": "code",
   "execution_count": 105,
   "metadata": {},
   "outputs": [],
   "source": [
    "#postal_cd.shape\n",
    "mum_postal_cd=postal_cd.loc[postal_cd['Region']== 'Mumbai']"
   ]
  },
  {
   "cell_type": "code",
   "execution_count": 106,
   "metadata": {},
   "outputs": [
    {
     "data": {
      "text/plain": [
       "Index(['Unnamed: 0', 'Pincode', ' Area', 'State', 'Number', 'Region',\n",
       "       'Area_Tag', 'Latitude', 'Longitude', 'BMC_Ward'],\n",
       "      dtype='object')"
      ]
     },
     "execution_count": 106,
     "metadata": {},
     "output_type": "execute_result"
    }
   ],
   "source": [
    "mum_postal_cd.columns"
   ]
  },
  {
   "cell_type": "code",
   "execution_count": 107,
   "metadata": {},
   "outputs": [],
   "source": [
    "mum_final=mum_postal_cd[['Pincode',' Area']]"
   ]
  },
  {
   "cell_type": "code",
   "execution_count": 108,
   "metadata": {},
   "outputs": [
    {
     "data": {
      "text/plain": [
       "(89, 2)"
      ]
     },
     "execution_count": 108,
     "metadata": {},
     "output_type": "execute_result"
    }
   ],
   "source": [
    "mum_final.shape"
   ]
  },
  {
   "cell_type": "code",
   "execution_count": 109,
   "metadata": {},
   "outputs": [],
   "source": [
    "zones=covid_zones_mumbai.groupby('Pincode')['Address'].count().reset_index()"
   ]
  },
  {
   "cell_type": "code",
   "execution_count": 110,
   "metadata": {},
   "outputs": [
    {
     "data": {
      "text/html": [
       "<div>\n",
       "<style scoped>\n",
       "    .dataframe tbody tr th:only-of-type {\n",
       "        vertical-align: middle;\n",
       "    }\n",
       "\n",
       "    .dataframe tbody tr th {\n",
       "        vertical-align: top;\n",
       "    }\n",
       "\n",
       "    .dataframe thead th {\n",
       "        text-align: right;\n",
       "    }\n",
       "</style>\n",
       "<table border=\"1\" class=\"dataframe\">\n",
       "  <thead>\n",
       "    <tr style=\"text-align: right;\">\n",
       "      <th></th>\n",
       "      <th>Pincode</th>\n",
       "      <th>Address</th>\n",
       "    </tr>\n",
       "  </thead>\n",
       "  <tbody>\n",
       "    <tr>\n",
       "      <th>0</th>\n",
       "      <td>400001</td>\n",
       "      <td>2</td>\n",
       "    </tr>\n",
       "    <tr>\n",
       "      <th>1</th>\n",
       "      <td>400003</td>\n",
       "      <td>18</td>\n",
       "    </tr>\n",
       "    <tr>\n",
       "      <th>2</th>\n",
       "      <td>400004</td>\n",
       "      <td>7</td>\n",
       "    </tr>\n",
       "    <tr>\n",
       "      <th>3</th>\n",
       "      <td>400005</td>\n",
       "      <td>9</td>\n",
       "    </tr>\n",
       "    <tr>\n",
       "      <th>4</th>\n",
       "      <td>400006</td>\n",
       "      <td>2</td>\n",
       "    </tr>\n",
       "  </tbody>\n",
       "</table>\n",
       "</div>"
      ],
      "text/plain": [
       "   Pincode  Address\n",
       "0   400001        2\n",
       "1   400003       18\n",
       "2   400004        7\n",
       "3   400005        9\n",
       "4   400006        2"
      ]
     },
     "execution_count": 110,
     "metadata": {},
     "output_type": "execute_result"
    }
   ],
   "source": [
    "zones.head()"
   ]
  },
  {
   "cell_type": "code",
   "execution_count": 111,
   "metadata": {},
   "outputs": [],
   "source": [
    "zones.rename(columns={\"Address\": \"Cases_Count\"},inplace=True)"
   ]
  },
  {
   "cell_type": "code",
   "execution_count": 112,
   "metadata": {},
   "outputs": [
    {
     "data": {
      "text/plain": [
       "Index(['Pincode', 'Cases_Count'], dtype='object')"
      ]
     },
     "execution_count": 112,
     "metadata": {},
     "output_type": "execute_result"
    }
   ],
   "source": [
    "zones.columns"
   ]
  },
  {
   "cell_type": "code",
   "execution_count": 113,
   "metadata": {},
   "outputs": [],
   "source": [
    "model_mum=mum_final.merge(zones,how='left',on='Pincode')\n",
    "#mumbai_labs_final=mumbai_testing_labs.merge(Mumbai_covid_labs,how='left',on='Pincode',validate='m:1')"
   ]
  },
  {
   "cell_type": "code",
   "execution_count": 114,
   "metadata": {},
   "outputs": [
    {
     "data": {
      "text/html": [
       "<div>\n",
       "<style scoped>\n",
       "    .dataframe tbody tr th:only-of-type {\n",
       "        vertical-align: middle;\n",
       "    }\n",
       "\n",
       "    .dataframe tbody tr th {\n",
       "        vertical-align: top;\n",
       "    }\n",
       "\n",
       "    .dataframe thead th {\n",
       "        text-align: right;\n",
       "    }\n",
       "</style>\n",
       "<table border=\"1\" class=\"dataframe\">\n",
       "  <thead>\n",
       "    <tr style=\"text-align: right;\">\n",
       "      <th></th>\n",
       "      <th>Pincode</th>\n",
       "      <th>Area</th>\n",
       "      <th>Cases_Count</th>\n",
       "    </tr>\n",
       "  </thead>\n",
       "  <tbody>\n",
       "    <tr>\n",
       "      <th>0</th>\n",
       "      <td>400001</td>\n",
       "      <td>Mumbai G.P.O.</td>\n",
       "      <td>2.0</td>\n",
       "    </tr>\n",
       "    <tr>\n",
       "      <th>1</th>\n",
       "      <td>400002</td>\n",
       "      <td>Thakurdwar</td>\n",
       "      <td>NaN</td>\n",
       "    </tr>\n",
       "    <tr>\n",
       "      <th>2</th>\n",
       "      <td>400003</td>\n",
       "      <td>Mandvi (Mumbai)</td>\n",
       "      <td>18.0</td>\n",
       "    </tr>\n",
       "    <tr>\n",
       "      <th>3</th>\n",
       "      <td>400004</td>\n",
       "      <td>Madhavbaug</td>\n",
       "      <td>7.0</td>\n",
       "    </tr>\n",
       "    <tr>\n",
       "      <th>4</th>\n",
       "      <td>400005</td>\n",
       "      <td>Colaba</td>\n",
       "      <td>9.0</td>\n",
       "    </tr>\n",
       "  </tbody>\n",
       "</table>\n",
       "</div>"
      ],
      "text/plain": [
       "   Pincode             Area  Cases_Count\n",
       "0   400001    Mumbai G.P.O.          2.0\n",
       "1   400002       Thakurdwar          NaN\n",
       "2   400003  Mandvi (Mumbai)         18.0\n",
       "3   400004       Madhavbaug          7.0\n",
       "4   400005           Colaba          9.0"
      ]
     },
     "execution_count": 114,
     "metadata": {},
     "output_type": "execute_result"
    }
   ],
   "source": [
    "model_mum.head()"
   ]
  },
  {
   "cell_type": "code",
   "execution_count": 115,
   "metadata": {},
   "outputs": [],
   "source": [
    "model_mum[\"Cases_Count\"].fillna(0.0, inplace = True) "
   ]
  },
  {
   "cell_type": "code",
   "execution_count": 116,
   "metadata": {},
   "outputs": [],
   "source": [
    "model_mum1=model_mum[['Pincode','Cases_Count']]"
   ]
  },
  {
   "cell_type": "code",
   "execution_count": 117,
   "metadata": {},
   "outputs": [
    {
     "data": {
      "text/plain": [
       "array([2, 2, 2, 2, 2, 2, 2, 2, 2, 2, 2, 2, 2, 2, 2, 2, 2, 2, 2, 2, 2, 2,\n",
       "       2, 2, 2, 2, 2, 2, 2, 2, 2, 2, 2, 2, 2, 0, 0, 0, 0, 0, 0, 0, 0, 0,\n",
       "       0, 0, 0, 0, 0, 0, 0, 0, 0, 0, 0, 0, 0, 0, 0, 0, 1, 1, 1, 1, 1, 1,\n",
       "       1, 1, 1, 1, 1, 1, 1, 1, 1, 1, 1, 1, 1, 1], dtype=int32)"
      ]
     },
     "execution_count": 117,
     "metadata": {},
     "output_type": "execute_result"
    }
   ],
   "source": [
    "kclusters = 3\n",
    "\n",
    "clustering_covid_mumbai = model_mum1\n",
    "\n",
    "# run k-means clustering\n",
    "kmeans = KMeans(n_clusters=kclusters, random_state=0).fit(clustering_covid_mumbai)\n",
    "\n",
    "# check cluster labels generated for each row in the dataframe\n",
    "kmeans.labels_[0:80]"
   ]
  },
  {
   "cell_type": "code",
   "execution_count": 118,
   "metadata": {},
   "outputs": [],
   "source": [
    "pincd_lst=mum_postal_cd['Pincode'].unique().tolist()\n",
    "covid_lat_lst=mum_postal_cd['Latitude'].tolist()\n",
    "covid_long_lst=mum_postal_cd['Longitude'].tolist()"
   ]
  },
  {
   "cell_type": "code",
   "execution_count": 119,
   "metadata": {},
   "outputs": [],
   "source": [
    "cluster_labels=kmeans.labels_[0:]"
   ]
  },
  {
   "cell_type": "code",
   "execution_count": 120,
   "metadata": {},
   "outputs": [
    {
     "data": {
      "text/plain": [
       "numpy.ndarray"
      ]
     },
     "execution_count": 120,
     "metadata": {},
     "output_type": "execute_result"
    }
   ],
   "source": [
    "type(cluster_labels)"
   ]
  },
  {
   "cell_type": "code",
   "execution_count": 121,
   "metadata": {},
   "outputs": [],
   "source": [
    "cluster_lst=cluster_labels.tolist()\n",
    "#=cluster_labels"
   ]
  },
  {
   "cell_type": "code",
   "execution_count": 122,
   "metadata": {},
   "outputs": [
    {
     "data": {
      "text/plain": [
       "89"
      ]
     },
     "execution_count": 122,
     "metadata": {},
     "output_type": "execute_result"
    }
   ],
   "source": [
    "len(covid_lat_lst)"
   ]
  },
  {
   "cell_type": "code",
   "execution_count": 123,
   "metadata": {},
   "outputs": [],
   "source": [
    "mumbai_clust=mumbai_covid_clusters.merge(covid_zones_mumbai,how='left',on='Pincode')"
   ]
  },
  {
   "cell_type": "code",
   "execution_count": 124,
   "metadata": {},
   "outputs": [
    {
     "data": {
      "text/html": [
       "<div style=\"width:100%;\"><div style=\"position:relative;width:100%;height:0;padding-bottom:60%;\"><iframe src=\"data:text/html;charset=utf-8;base64,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\" style=\"position:absolute;width:100%;height:100%;left:0;top:0;border:none !important;\" allowfullscreen webkitallowfullscreen mozallowfullscreen></iframe></div></div>"
      ],
      "text/plain": [
       "<folium.folium.Map at 0x7f3c1471f5f8>"
      ]
     },
     "execution_count": 124,
     "metadata": {},
     "output_type": "execute_result"
    }
   ],
   "source": [
    "#Finally Plotting Clusters for Mumbai Covid-19 Zone\n",
    "map_clusters = folium.Map(location=[latitude, longitude],tiles=\"Stamen Toner\", zoom_start=10)\n",
    "\n",
    "# set color scheme for the clusters\n",
    "x = np.arange(kclusters)\n",
    "ys = [i + x + (i*x)**2 for i in range(kclusters)]\n",
    "#colors_array = cm.rainbow(np.linspace(0, 1, len(ys)))\n",
    "#rainbow = [colors.rgb2hex(i) for i in colors_array]\n",
    "color_code = ['green','blue','red']\n",
    "\n",
    "# add markers to the map\n",
    "markers_colors = []\n",
    "for lat, lon, poi, cluster in zip(mumbai_covid_clusters['Latitude'], mumbai_covid_clusters['Longitude'], mumbai_covid_clusters['Pincode'], mumbai_covid_clusters['Cluster_label']):\n",
    "    label = folium.Popup(str(poi) + ' Cluster ' + str(cluster), parse_html=True)\n",
    "    if cluster != 'Nan':\n",
    "        val=int(cluster)\n",
    "    folium.CircleMarker(\n",
    "        [lat, lon],\n",
    "        radius=5,\n",
    "        popup=label,\n",
    "        color=color_code[val],\n",
    "        fill=True,\n",
    "        fill_color=rainbow[val-1],\n",
    "        fill_opacity=0.7).add_to(map_clusters)\n",
    "       \n",
    "map_clusters"
   ]
  },
  {
   "cell_type": "code",
   "execution_count": null,
   "metadata": {},
   "outputs": [],
   "source": []
  }
 ],
 "metadata": {
  "kernelspec": {
   "display_name": "Python 3",
   "language": "python",
   "name": "python3"
  },
  "language_info": {
   "codemirror_mode": {
    "name": "ipython",
    "version": 3
   },
   "file_extension": ".py",
   "mimetype": "text/x-python",
   "name": "python",
   "nbconvert_exporter": "python",
   "pygments_lexer": "ipython3",
   "version": "3.6.5"
  }
 },
 "nbformat": 4,
 "nbformat_minor": 2
}
