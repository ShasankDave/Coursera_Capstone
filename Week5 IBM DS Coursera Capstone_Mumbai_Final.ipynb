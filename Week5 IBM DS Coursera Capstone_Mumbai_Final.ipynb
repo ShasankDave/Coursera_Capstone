{
 "cells": [
  {
   "cell_type": "markdown",
   "metadata": {},
   "source": [
    "# Week-3 IBM DS Professional Assignment-Part3"
   ]
  },
  {
   "cell_type": "markdown",
   "metadata": {},
   "source": [
    "Assignment Details & Submission Guidelines"
   ]
  },
  {
   "cell_type": "markdown",
   "metadata": {},
   "source": [
    "Explore and cluster the neighborhoods in Toronto. You can decide to work with only boroughs that contain the word Toronto and then replicate the same analysis we did to the New York City data. It is up to you.\n",
    "\n",
    "Just make sure:\n",
    "\n",
    "to add enough Markdown cells to explain what you decided to do and to report any observations you make.\n",
    "to generate maps to visualize your neighborhoods and how they cluster together.\n",
    "Once you are happy with your analysis, submit a link to the new Notebook on your Github repository. (3 marks)\n",
    "\n"
   ]
  },
  {
   "cell_type": "code",
   "execution_count": 1,
   "metadata": {},
   "outputs": [
    {
     "name": "stdout",
     "output_type": "stream",
     "text": [
      "************Dependencies Imported***************\n"
     ]
    }
   ],
   "source": [
    "#importing dependencies\n",
    "import pandas as pd\n",
    "import numpy as np\n",
    "from geopy.geocoders import Nominatim\n",
    "import folium\n",
    "import matplotlib.cm as cm\n",
    "import matplotlib.colors as colors\n",
    "from sklearn.cluster import KMeans\n",
    "print(\"************Dependencies Imported***************\")"
   ]
  },
  {
   "cell_type": "code",
   "execution_count": 2,
   "metadata": {},
   "outputs": [
    {
     "name": "stderr",
     "output_type": "stream",
     "text": [
      "/home/sdave/anaconda3/lib/python3.6/site-packages/IPython/utils/traitlets.py:5: UserWarning:\n",
      "\n",
      "IPython.utils.traitlets has moved to a top-level traitlets package.\n",
      "\n"
     ]
    }
   ],
   "source": [
    "from IPython.core.display import HTML\n",
    "import folium\n",
    "import datetime\n",
    "from datetime import datetime\n",
    "import requests\n",
    "from bs4 import BeautifulSoup\n",
    "import lxml.html as lh\n",
    "import pandas as pd\n",
    "import re\n",
    "import time\n",
    "import psutil\n",
    "import json\n",
    "\n",
    "import numpy as np\n",
    "from PIL import Image\n",
    "import os\n",
    "from os import path\n",
    "import matplotlib.pyplot as plt\n",
    "\n",
    "import plotly.graph_objects as go\n",
    "from pandas.plotting import register_matplotlib_converters\n",
    "import plotly.express as px\n",
    "from plotly.subplots import make_subplots\n",
    "from IPython.display import display, Markdown, Latex\n",
    "import matplotlib as plot\n",
    "from matplotlib.pyplot import figure\n",
    "import seaborn as sns\n",
    "\n",
    "register_matplotlib_converters()\n",
    "from IPython.display import Markdown\n",
    "\n",
    "import plotly.offline as py\n",
    "import plotly.express as px\n",
    "\n",
    "dataset = pd.DataFrame()"
   ]
  },
  {
   "cell_type": "code",
   "execution_count": 3,
   "metadata": {},
   "outputs": [
    {
     "data": {
      "text/plain": [
       "(111, 10)"
      ]
     },
     "execution_count": 3,
     "metadata": {},
     "output_type": "execute_result"
    }
   ],
   "source": [
    "mumbai_pincodes=pd.read_csv('./Mumbai_Data/Mumbai_Pincodes_latitude_longitude.csv')\n",
    "mumbai_pincodes.head()\n",
    "mumbai_pincodes.shape"
   ]
  },
  {
   "cell_type": "code",
   "execution_count": 4,
   "metadata": {},
   "outputs": [
    {
     "data": {
      "text/html": [
       "<div>\n",
       "<style scoped>\n",
       "    .dataframe tbody tr th:only-of-type {\n",
       "        vertical-align: middle;\n",
       "    }\n",
       "\n",
       "    .dataframe tbody tr th {\n",
       "        vertical-align: top;\n",
       "    }\n",
       "\n",
       "    .dataframe thead th {\n",
       "        text-align: right;\n",
       "    }\n",
       "</style>\n",
       "<table border=\"1\" class=\"dataframe\">\n",
       "  <thead>\n",
       "    <tr style=\"text-align: right;\">\n",
       "      <th></th>\n",
       "      <th>Ward</th>\n",
       "      <th>Pincode</th>\n",
       "      <th>Address</th>\n",
       "    </tr>\n",
       "  </thead>\n",
       "  <tbody>\n",
       "    <tr>\n",
       "      <th>0</th>\n",
       "      <td>A</td>\n",
       "      <td>400001</td>\n",
       "      <td>Blossoms,ModiStrret,OppFishMarket,Fort</td>\n",
       "    </tr>\n",
       "    <tr>\n",
       "      <th>1</th>\n",
       "      <td>A</td>\n",
       "      <td>400001</td>\n",
       "      <td>Sahayog,5,MintRoad,OppGpo,Fort</td>\n",
       "    </tr>\n",
       "    <tr>\n",
       "      <th>2</th>\n",
       "      <td>A</td>\n",
       "      <td>400005</td>\n",
       "      <td>AbbasBuilding,BKBomanBehramMarg,BackSideOfTajH...</td>\n",
       "    </tr>\n",
       "    <tr>\n",
       "      <th>3</th>\n",
       "      <td>A</td>\n",
       "      <td>400005</td>\n",
       "      <td>BandusCourt,1StPastaLane,Colaba</td>\n",
       "    </tr>\n",
       "    <tr>\n",
       "      <th>4</th>\n",
       "      <td>A</td>\n",
       "      <td>400005</td>\n",
       "      <td>GaneshmurthiNagarPartNo1,3,CaptainPrakashPethe...</td>\n",
       "    </tr>\n",
       "  </tbody>\n",
       "</table>\n",
       "</div>"
      ],
      "text/plain": [
       "  Ward  Pincode                                            Address\n",
       "0   A    400001             Blossoms,ModiStrret,OppFishMarket,Fort\n",
       "1   A    400001                     Sahayog,5,MintRoad,OppGpo,Fort\n",
       "2   A    400005  AbbasBuilding,BKBomanBehramMarg,BackSideOfTajH...\n",
       "3   A    400005                    BandusCourt,1StPastaLane,Colaba\n",
       "4   A    400005  GaneshmurthiNagarPartNo1,3,CaptainPrakashPethe..."
      ]
     },
     "execution_count": 4,
     "metadata": {},
     "output_type": "execute_result"
    }
   ],
   "source": [
    "#List of covid zones in mumbai\n",
    "covid_zones_mumbai=pd.read_csv('./Mumbai_Data/Covid_Zones_Mumbai.csv')\n",
    "covid_zones_mumbai.head()"
   ]
  },
  {
   "cell_type": "code",
   "execution_count": 5,
   "metadata": {},
   "outputs": [],
   "source": [
    "#Merging Covid zones & mumbai pincode data to get covid zones latitude & Longitude\n",
    "covid19_mumbai=covid_zones_mumbai.merge(mumbai_pincodes,how='left',on='Pincode',validate='m:1')"
   ]
  },
  {
   "cell_type": "code",
   "execution_count": 6,
   "metadata": {},
   "outputs": [
    {
     "data": {
      "text/html": [
       "<div>\n",
       "<style scoped>\n",
       "    .dataframe tbody tr th:only-of-type {\n",
       "        vertical-align: middle;\n",
       "    }\n",
       "\n",
       "    .dataframe tbody tr th {\n",
       "        vertical-align: top;\n",
       "    }\n",
       "\n",
       "    .dataframe thead th {\n",
       "        text-align: right;\n",
       "    }\n",
       "</style>\n",
       "<table border=\"1\" class=\"dataframe\">\n",
       "  <thead>\n",
       "    <tr style=\"text-align: right;\">\n",
       "      <th></th>\n",
       "      <th>Ward</th>\n",
       "      <th>Pincode</th>\n",
       "      <th>Address</th>\n",
       "      <th>Unnamed: 0</th>\n",
       "      <th>Area</th>\n",
       "      <th>State</th>\n",
       "      <th>Number</th>\n",
       "      <th>Region</th>\n",
       "      <th>Area_Tag</th>\n",
       "      <th>Latitude</th>\n",
       "      <th>Longitude</th>\n",
       "      <th>BMC_Ward</th>\n",
       "    </tr>\n",
       "  </thead>\n",
       "  <tbody>\n",
       "    <tr>\n",
       "      <th>0</th>\n",
       "      <td>A</td>\n",
       "      <td>400001</td>\n",
       "      <td>Blossoms,ModiStrret,OppFishMarket,Fort</td>\n",
       "      <td>1.0</td>\n",
       "      <td>Mumbai G.P.O.</td>\n",
       "      <td>Maharashtra</td>\n",
       "      <td>16.0</td>\n",
       "      <td>Mumbai</td>\n",
       "      <td>Mumbai</td>\n",
       "      <td>18.6291</td>\n",
       "      <td>72.8919</td>\n",
       "      <td>NaN</td>\n",
       "    </tr>\n",
       "    <tr>\n",
       "      <th>1</th>\n",
       "      <td>A</td>\n",
       "      <td>400001</td>\n",
       "      <td>Sahayog,5,MintRoad,OppGpo,Fort</td>\n",
       "      <td>1.0</td>\n",
       "      <td>Mumbai G.P.O.</td>\n",
       "      <td>Maharashtra</td>\n",
       "      <td>16.0</td>\n",
       "      <td>Mumbai</td>\n",
       "      <td>Mumbai</td>\n",
       "      <td>18.6291</td>\n",
       "      <td>72.8919</td>\n",
       "      <td>NaN</td>\n",
       "    </tr>\n",
       "    <tr>\n",
       "      <th>2</th>\n",
       "      <td>A</td>\n",
       "      <td>400005</td>\n",
       "      <td>AbbasBuilding,BKBomanBehramMarg,BackSideOfTajH...</td>\n",
       "      <td>5.0</td>\n",
       "      <td>Colaba</td>\n",
       "      <td>Maharashtra</td>\n",
       "      <td>16.0</td>\n",
       "      <td>Mumbai</td>\n",
       "      <td>Mumbai</td>\n",
       "      <td>18.9069</td>\n",
       "      <td>72.8106</td>\n",
       "      <td>NaN</td>\n",
       "    </tr>\n",
       "    <tr>\n",
       "      <th>3</th>\n",
       "      <td>A</td>\n",
       "      <td>400005</td>\n",
       "      <td>BandusCourt,1StPastaLane,Colaba</td>\n",
       "      <td>5.0</td>\n",
       "      <td>Colaba</td>\n",
       "      <td>Maharashtra</td>\n",
       "      <td>16.0</td>\n",
       "      <td>Mumbai</td>\n",
       "      <td>Mumbai</td>\n",
       "      <td>18.9069</td>\n",
       "      <td>72.8106</td>\n",
       "      <td>NaN</td>\n",
       "    </tr>\n",
       "    <tr>\n",
       "      <th>4</th>\n",
       "      <td>A</td>\n",
       "      <td>400005</td>\n",
       "      <td>GaneshmurthiNagarPartNo1,3,CaptainPrakashPethe...</td>\n",
       "      <td>5.0</td>\n",
       "      <td>Colaba</td>\n",
       "      <td>Maharashtra</td>\n",
       "      <td>16.0</td>\n",
       "      <td>Mumbai</td>\n",
       "      <td>Mumbai</td>\n",
       "      <td>18.9069</td>\n",
       "      <td>72.8106</td>\n",
       "      <td>NaN</td>\n",
       "    </tr>\n",
       "  </tbody>\n",
       "</table>\n",
       "</div>"
      ],
      "text/plain": [
       "  Ward  Pincode                                            Address  \\\n",
       "0   A    400001             Blossoms,ModiStrret,OppFishMarket,Fort   \n",
       "1   A    400001                     Sahayog,5,MintRoad,OppGpo,Fort   \n",
       "2   A    400005  AbbasBuilding,BKBomanBehramMarg,BackSideOfTajH...   \n",
       "3   A    400005                    BandusCourt,1StPastaLane,Colaba   \n",
       "4   A    400005  GaneshmurthiNagarPartNo1,3,CaptainPrakashPethe...   \n",
       "\n",
       "   Unnamed: 0           Area        State  Number  Region Area_Tag  Latitude  \\\n",
       "0         1.0  Mumbai G.P.O.  Maharashtra    16.0  Mumbai   Mumbai   18.6291   \n",
       "1         1.0  Mumbai G.P.O.  Maharashtra    16.0  Mumbai   Mumbai   18.6291   \n",
       "2         5.0         Colaba  Maharashtra    16.0  Mumbai   Mumbai   18.9069   \n",
       "3         5.0         Colaba  Maharashtra    16.0  Mumbai   Mumbai   18.9069   \n",
       "4         5.0         Colaba  Maharashtra    16.0  Mumbai   Mumbai   18.9069   \n",
       "\n",
       "   Longitude  BMC_Ward  \n",
       "0    72.8919       NaN  \n",
       "1    72.8919       NaN  \n",
       "2    72.8106       NaN  \n",
       "3    72.8106       NaN  \n",
       "4    72.8106       NaN  "
      ]
     },
     "execution_count": 6,
     "metadata": {},
     "output_type": "execute_result"
    }
   ],
   "source": [
    "#Comprehensive dataset of covid-19 cases in mumbai uptill 18th April\n",
    "#Source: http://stopcoronavirus.mcgm.gov.in/\n",
    "covid19_mumbai.head()"
   ]
  },
  {
   "cell_type": "code",
   "execution_count": 7,
   "metadata": {},
   "outputs": [
    {
     "data": {
      "text/html": [
       "<div>\n",
       "<style scoped>\n",
       "    .dataframe tbody tr th:only-of-type {\n",
       "        vertical-align: middle;\n",
       "    }\n",
       "\n",
       "    .dataframe tbody tr th {\n",
       "        vertical-align: top;\n",
       "    }\n",
       "\n",
       "    .dataframe thead th {\n",
       "        text-align: right;\n",
       "    }\n",
       "</style>\n",
       "<table border=\"1\" class=\"dataframe\">\n",
       "  <thead>\n",
       "    <tr style=\"text-align: right;\">\n",
       "      <th></th>\n",
       "      <th>lab</th>\n",
       "      <th>address</th>\n",
       "      <th>Pincode</th>\n",
       "      <th>city</th>\n",
       "      <th>state</th>\n",
       "      <th>type</th>\n",
       "    </tr>\n",
       "  </thead>\n",
       "  <tbody>\n",
       "    <tr>\n",
       "      <th>113</th>\n",
       "      <td>Seth GS Medical College &amp; KEM Hospital, Mumbai</td>\n",
       "      <td>Seth GS Medical College &amp; KEM Hospital, Achary...</td>\n",
       "      <td>400012</td>\n",
       "      <td>Mumbai</td>\n",
       "      <td>Maharashtra</td>\n",
       "      <td>Government Laboratory</td>\n",
       "    </tr>\n",
       "    <tr>\n",
       "      <th>114</th>\n",
       "      <td>Kasturba Hospital for Infectious Diseases, Mumbai</td>\n",
       "      <td>Kasturba Hospital for Infectious Diseases, San...</td>\n",
       "      <td>400034</td>\n",
       "      <td>Mumbai</td>\n",
       "      <td>Maharashtra</td>\n",
       "      <td>Government Laboratory</td>\n",
       "    </tr>\n",
       "    <tr>\n",
       "      <th>115</th>\n",
       "      <td>National Institute of Virology Field Unit, Mumbai</td>\n",
       "      <td>National Institute of Virology Field Unit, Haf...</td>\n",
       "      <td>400012</td>\n",
       "      <td>Mumbai</td>\n",
       "      <td>Maharashtra</td>\n",
       "      <td>Government Laboratory</td>\n",
       "    </tr>\n",
       "    <tr>\n",
       "      <th>119</th>\n",
       "      <td>Grant Medical College &amp; Sir JJ Hospital, Mumbai</td>\n",
       "      <td>Grant Medical College &amp; Sir JJ Hospital, J J M...</td>\n",
       "      <td>400008</td>\n",
       "      <td>Mumbai</td>\n",
       "      <td>Maharashtra</td>\n",
       "      <td>Government Laboratory</td>\n",
       "    </tr>\n",
       "    <tr>\n",
       "      <th>122</th>\n",
       "      <td>Haffkine Institute, Mumbai</td>\n",
       "      <td>Haffkine Institute, Acharya Donde Marg, Parel,...</td>\n",
       "      <td>400012</td>\n",
       "      <td>Mumbai</td>\n",
       "      <td>Maharashtra</td>\n",
       "      <td>Government Laboratory</td>\n",
       "    </tr>\n",
       "  </tbody>\n",
       "</table>\n",
       "</div>"
      ],
      "text/plain": [
       "                                                   lab  \\\n",
       "113     Seth GS Medical College & KEM Hospital, Mumbai   \n",
       "114  Kasturba Hospital for Infectious Diseases, Mumbai   \n",
       "115  National Institute of Virology Field Unit, Mumbai   \n",
       "119    Grant Medical College & Sir JJ Hospital, Mumbai   \n",
       "122                         Haffkine Institute, Mumbai   \n",
       "\n",
       "                                               address  Pincode    city  \\\n",
       "113  Seth GS Medical College & KEM Hospital, Achary...   400012  Mumbai   \n",
       "114  Kasturba Hospital for Infectious Diseases, San...   400034  Mumbai   \n",
       "115  National Institute of Virology Field Unit, Haf...   400012  Mumbai   \n",
       "119  Grant Medical College & Sir JJ Hospital, J J M...   400008  Mumbai   \n",
       "122  Haffkine Institute, Acharya Donde Marg, Parel,...   400012  Mumbai   \n",
       "\n",
       "           state                   type  \n",
       "113  Maharashtra  Government Laboratory  \n",
       "114  Maharashtra  Government Laboratory  \n",
       "115  Maharashtra  Government Laboratory  \n",
       "119  Maharashtra  Government Laboratory  \n",
       "122  Maharashtra  Government Laboratory  "
      ]
     },
     "execution_count": 7,
     "metadata": {},
     "output_type": "execute_result"
    }
   ],
   "source": [
    "#Looking at Testing labs from india's list & extract mumbai's data\n",
    "testing_labs_india=pd.read_csv('./covid19/Covid_data_srk/ICMRTestingLabs.csv')\n",
    "testing_labs_india.rename(columns={\"pincode\": \"Pincode\"},inplace=True)\n",
    "mumbai_testing_labs=testing_labs_india.loc[testing_labs_india['city']== 'Mumbai']\n",
    "mumbai_testing_labs.head()"
   ]
  },
  {
   "cell_type": "code",
   "execution_count": 8,
   "metadata": {},
   "outputs": [
    {
     "data": {
      "text/html": [
       "<div>\n",
       "<style scoped>\n",
       "    .dataframe tbody tr th:only-of-type {\n",
       "        vertical-align: middle;\n",
       "    }\n",
       "\n",
       "    .dataframe tbody tr th {\n",
       "        vertical-align: top;\n",
       "    }\n",
       "\n",
       "    .dataframe thead th {\n",
       "        text-align: right;\n",
       "    }\n",
       "</style>\n",
       "<table border=\"1\" class=\"dataframe\">\n",
       "  <thead>\n",
       "    <tr style=\"text-align: right;\">\n",
       "      <th></th>\n",
       "      <th>lab</th>\n",
       "      <th>address</th>\n",
       "      <th>Pincode</th>\n",
       "      <th>city</th>\n",
       "      <th>state</th>\n",
       "      <th>type</th>\n",
       "      <th>Unnamed: 0</th>\n",
       "      <th>Area</th>\n",
       "      <th>State</th>\n",
       "      <th>Number</th>\n",
       "      <th>Region</th>\n",
       "      <th>Area_Tag</th>\n",
       "      <th>Latitude</th>\n",
       "      <th>Longitude</th>\n",
       "      <th>BMC_Ward</th>\n",
       "    </tr>\n",
       "  </thead>\n",
       "  <tbody>\n",
       "    <tr>\n",
       "      <th>0</th>\n",
       "      <td>Seth GS Medical College &amp; KEM Hospital, Mumbai</td>\n",
       "      <td>Seth GS Medical College &amp; KEM Hospital, Achary...</td>\n",
       "      <td>400012</td>\n",
       "      <td>Mumbai</td>\n",
       "      <td>Maharashtra</td>\n",
       "      <td>Government Laboratory</td>\n",
       "      <td>54.0</td>\n",
       "      <td>Parel Rly Work Shop</td>\n",
       "      <td>Maharashtra</td>\n",
       "      <td>16.0</td>\n",
       "      <td>Mumbai</td>\n",
       "      <td>NaN</td>\n",
       "      <td>19.0000</td>\n",
       "      <td>72.8333</td>\n",
       "      <td>NaN</td>\n",
       "    </tr>\n",
       "    <tr>\n",
       "      <th>1</th>\n",
       "      <td>Kasturba Hospital for Infectious Diseases, Mumbai</td>\n",
       "      <td>Kasturba Hospital for Infectious Diseases, San...</td>\n",
       "      <td>400034</td>\n",
       "      <td>Mumbai</td>\n",
       "      <td>Maharashtra</td>\n",
       "      <td>Government Laboratory</td>\n",
       "      <td>111.0</td>\n",
       "      <td>Tulsiwadi</td>\n",
       "      <td>Maharashtra</td>\n",
       "      <td>16.0</td>\n",
       "      <td>Mumbai</td>\n",
       "      <td>Mumbai</td>\n",
       "      <td>19.0167</td>\n",
       "      <td>72.8500</td>\n",
       "      <td>NaN</td>\n",
       "    </tr>\n",
       "    <tr>\n",
       "      <th>2</th>\n",
       "      <td>National Institute of Virology Field Unit, Mumbai</td>\n",
       "      <td>National Institute of Virology Field Unit, Haf...</td>\n",
       "      <td>400012</td>\n",
       "      <td>Mumbai</td>\n",
       "      <td>Maharashtra</td>\n",
       "      <td>Government Laboratory</td>\n",
       "      <td>54.0</td>\n",
       "      <td>Parel Rly Work Shop</td>\n",
       "      <td>Maharashtra</td>\n",
       "      <td>16.0</td>\n",
       "      <td>Mumbai</td>\n",
       "      <td>NaN</td>\n",
       "      <td>19.0000</td>\n",
       "      <td>72.8333</td>\n",
       "      <td>NaN</td>\n",
       "    </tr>\n",
       "    <tr>\n",
       "      <th>3</th>\n",
       "      <td>Grant Medical College &amp; Sir JJ Hospital, Mumbai</td>\n",
       "      <td>Grant Medical College &amp; Sir JJ Hospital, J J M...</td>\n",
       "      <td>400008</td>\n",
       "      <td>Mumbai</td>\n",
       "      <td>Maharashtra</td>\n",
       "      <td>Government Laboratory</td>\n",
       "      <td>8.0</td>\n",
       "      <td>Kamathipura</td>\n",
       "      <td>Maharashtra</td>\n",
       "      <td>16.0</td>\n",
       "      <td>Mumbai</td>\n",
       "      <td>Mumbai</td>\n",
       "      <td>18.6291</td>\n",
       "      <td>72.8919</td>\n",
       "      <td>NaN</td>\n",
       "    </tr>\n",
       "    <tr>\n",
       "      <th>4</th>\n",
       "      <td>Haffkine Institute, Mumbai</td>\n",
       "      <td>Haffkine Institute, Acharya Donde Marg, Parel,...</td>\n",
       "      <td>400012</td>\n",
       "      <td>Mumbai</td>\n",
       "      <td>Maharashtra</td>\n",
       "      <td>Government Laboratory</td>\n",
       "      <td>54.0</td>\n",
       "      <td>Parel Rly Work Shop</td>\n",
       "      <td>Maharashtra</td>\n",
       "      <td>16.0</td>\n",
       "      <td>Mumbai</td>\n",
       "      <td>NaN</td>\n",
       "      <td>19.0000</td>\n",
       "      <td>72.8333</td>\n",
       "      <td>NaN</td>\n",
       "    </tr>\n",
       "  </tbody>\n",
       "</table>\n",
       "</div>"
      ],
      "text/plain": [
       "                                                 lab  \\\n",
       "0     Seth GS Medical College & KEM Hospital, Mumbai   \n",
       "1  Kasturba Hospital for Infectious Diseases, Mumbai   \n",
       "2  National Institute of Virology Field Unit, Mumbai   \n",
       "3    Grant Medical College & Sir JJ Hospital, Mumbai   \n",
       "4                         Haffkine Institute, Mumbai   \n",
       "\n",
       "                                             address  Pincode    city  \\\n",
       "0  Seth GS Medical College & KEM Hospital, Achary...   400012  Mumbai   \n",
       "1  Kasturba Hospital for Infectious Diseases, San...   400034  Mumbai   \n",
       "2  National Institute of Virology Field Unit, Haf...   400012  Mumbai   \n",
       "3  Grant Medical College & Sir JJ Hospital, J J M...   400008  Mumbai   \n",
       "4  Haffkine Institute, Acharya Donde Marg, Parel,...   400012  Mumbai   \n",
       "\n",
       "         state                   type  Unnamed: 0                 Area  \\\n",
       "0  Maharashtra  Government Laboratory        54.0  Parel Rly Work Shop   \n",
       "1  Maharashtra  Government Laboratory       111.0            Tulsiwadi   \n",
       "2  Maharashtra  Government Laboratory        54.0  Parel Rly Work Shop   \n",
       "3  Maharashtra  Government Laboratory         8.0          Kamathipura   \n",
       "4  Maharashtra  Government Laboratory        54.0  Parel Rly Work Shop   \n",
       "\n",
       "         State  Number  Region Area_Tag  Latitude  Longitude  BMC_Ward  \n",
       "0  Maharashtra    16.0  Mumbai      NaN   19.0000    72.8333       NaN  \n",
       "1  Maharashtra    16.0  Mumbai   Mumbai   19.0167    72.8500       NaN  \n",
       "2  Maharashtra    16.0  Mumbai      NaN   19.0000    72.8333       NaN  \n",
       "3  Maharashtra    16.0  Mumbai   Mumbai   18.6291    72.8919       NaN  \n",
       "4  Maharashtra    16.0  Mumbai      NaN   19.0000    72.8333       NaN  "
      ]
     },
     "execution_count": 8,
     "metadata": {},
     "output_type": "execute_result"
    }
   ],
   "source": [
    "#Map Mumbai's Testing labs with latitude & Longitude:Key{PinCode}\n",
    "mumbai_labs_ll=mumbai_testing_labs.merge(mumbai_pincodes,how='left',on='Pincode',validate='m:1')\n",
    "mumbai_labs_ll.head()"
   ]
  },
  {
   "cell_type": "code",
   "execution_count": 9,
   "metadata": {},
   "outputs": [
    {
     "name": "stdout",
     "output_type": "stream",
     "text": [
      "The geograpical coordinate found for 400012,india.\n",
      "The geograpical coordinate found for 400034,india.\n",
      "The geograpical coordinate found for 400012,india.\n",
      "The geograpical coordinate found for 400008,india.\n",
      "The geograpical coordinate found for 400012,india.\n",
      "The geograpical coordinate found for 444001,india.\n",
      "The geograpical coordinate found for 400012,india.\n",
      "The geograpical coordinate found for 400053,india.\n",
      "The geograpical coordinate found for 400070,india.\n",
      "The geograpical coordinate found for 400062,india.\n",
      "The geograpical coordinate found for 411004,india.\n",
      "The geograpical coordinate found for 400053,india.\n",
      "The geograpical coordinate found for 400072,india.\n",
      "The geograpical coordinate found for 400012,india.\n",
      "The geograpical coordinate found for 400092,india.\n",
      "The geograpical coordinate found for 400080,india.\n",
      "The geograpical coordinate found for 400016,india.\n",
      "The geograpical coordinate found for 400064,india.\n",
      "The geograpical coordinate found for 400016,india.\n"
     ]
    }
   ],
   "source": [
    "lat=[]\n",
    "long=[]\n",
    "pincd=[]\n",
    "\n",
    "#address = 'Mumbai, india'\n",
    "for pincode in mumbai_labs_ll['Pincode']:\n",
    "    add= str(pincode) + ',india'\n",
    "    address = add\n",
    "    geolocator = Nominatim(user_agent=\"can_explorer\")\n",
    "    location = geolocator.geocode(address,timeout=15)\n",
    "    latitude = lat.append(location.latitude)\n",
    "    longitude =long.append(location.longitude)\n",
    "    pincd.append(pincode)\n",
    "    print('The geograpical coordinate found for {}.'.format(add))"
   ]
  },
  {
   "cell_type": "code",
   "execution_count": 10,
   "metadata": {},
   "outputs": [],
   "source": [
    "Mumbai_covid_labs = pd.DataFrame({\"Pincode\": pincd, \n",
    "                           \"Latitude\": lat,\n",
    "                           \"Longitude\": long})\n",
    "\n",
    "Mumbai_covid_labs.head()\n",
    "Mumbai_covid_labs.drop_duplicates('Pincode',inplace=True)"
   ]
  },
  {
   "cell_type": "code",
   "execution_count": 11,
   "metadata": {},
   "outputs": [
    {
     "data": {
      "text/html": [
       "<div>\n",
       "<style scoped>\n",
       "    .dataframe tbody tr th:only-of-type {\n",
       "        vertical-align: middle;\n",
       "    }\n",
       "\n",
       "    .dataframe tbody tr th {\n",
       "        vertical-align: top;\n",
       "    }\n",
       "\n",
       "    .dataframe thead th {\n",
       "        text-align: right;\n",
       "    }\n",
       "</style>\n",
       "<table border=\"1\" class=\"dataframe\">\n",
       "  <thead>\n",
       "    <tr style=\"text-align: right;\">\n",
       "      <th></th>\n",
       "      <th>lab</th>\n",
       "      <th>address</th>\n",
       "      <th>Pincode</th>\n",
       "      <th>city</th>\n",
       "      <th>state</th>\n",
       "      <th>type</th>\n",
       "      <th>Latitude</th>\n",
       "      <th>Longitude</th>\n",
       "    </tr>\n",
       "  </thead>\n",
       "  <tbody>\n",
       "    <tr>\n",
       "      <th>0</th>\n",
       "      <td>Seth GS Medical College &amp; KEM Hospital, Mumbai</td>\n",
       "      <td>Seth GS Medical College &amp; KEM Hospital, Achary...</td>\n",
       "      <td>400012</td>\n",
       "      <td>Mumbai</td>\n",
       "      <td>Maharashtra</td>\n",
       "      <td>Government Laboratory</td>\n",
       "      <td>19.000795</td>\n",
       "      <td>72.840147</td>\n",
       "    </tr>\n",
       "    <tr>\n",
       "      <th>1</th>\n",
       "      <td>Kasturba Hospital for Infectious Diseases, Mumbai</td>\n",
       "      <td>Kasturba Hospital for Infectious Diseases, San...</td>\n",
       "      <td>400034</td>\n",
       "      <td>Mumbai</td>\n",
       "      <td>Maharashtra</td>\n",
       "      <td>Government Laboratory</td>\n",
       "      <td>18.976686</td>\n",
       "      <td>72.812367</td>\n",
       "    </tr>\n",
       "    <tr>\n",
       "      <th>2</th>\n",
       "      <td>National Institute of Virology Field Unit, Mumbai</td>\n",
       "      <td>National Institute of Virology Field Unit, Haf...</td>\n",
       "      <td>400012</td>\n",
       "      <td>Mumbai</td>\n",
       "      <td>Maharashtra</td>\n",
       "      <td>Government Laboratory</td>\n",
       "      <td>19.000795</td>\n",
       "      <td>72.840147</td>\n",
       "    </tr>\n",
       "    <tr>\n",
       "      <th>3</th>\n",
       "      <td>Grant Medical College &amp; Sir JJ Hospital, Mumbai</td>\n",
       "      <td>Grant Medical College &amp; Sir JJ Hospital, J J M...</td>\n",
       "      <td>400008</td>\n",
       "      <td>Mumbai</td>\n",
       "      <td>Maharashtra</td>\n",
       "      <td>Government Laboratory</td>\n",
       "      <td>18.970566</td>\n",
       "      <td>72.833956</td>\n",
       "    </tr>\n",
       "    <tr>\n",
       "      <th>4</th>\n",
       "      <td>Haffkine Institute, Mumbai</td>\n",
       "      <td>Haffkine Institute, Acharya Donde Marg, Parel,...</td>\n",
       "      <td>400012</td>\n",
       "      <td>Mumbai</td>\n",
       "      <td>Maharashtra</td>\n",
       "      <td>Government Laboratory</td>\n",
       "      <td>19.000795</td>\n",
       "      <td>72.840147</td>\n",
       "    </tr>\n",
       "    <tr>\n",
       "      <th>5</th>\n",
       "      <td>Govt. Medical College, Akola</td>\n",
       "      <td>Govt. Medical College, Ashok Vatika, District ...</td>\n",
       "      <td>444001</td>\n",
       "      <td>Mumbai</td>\n",
       "      <td>Maharashtra</td>\n",
       "      <td>Government Laboratory</td>\n",
       "      <td>20.805243</td>\n",
       "      <td>77.107690</td>\n",
       "    </tr>\n",
       "    <tr>\n",
       "      <th>6</th>\n",
       "      <td>ICMR-National Institute for Research in Reprod...</td>\n",
       "      <td>ICMR-National Institute for Research in Reprod...</td>\n",
       "      <td>400012</td>\n",
       "      <td>Mumbai</td>\n",
       "      <td>Maharashtra</td>\n",
       "      <td>Government Laboratory</td>\n",
       "      <td>19.000795</td>\n",
       "      <td>72.840147</td>\n",
       "    </tr>\n",
       "    <tr>\n",
       "      <th>7</th>\n",
       "      <td>Suburban Diagnostics (India) Pvt. Ltd., Mumbai</td>\n",
       "      <td>Suburban Diagnostics (India) Pvt. Ltd., 2nd Fl...</td>\n",
       "      <td>400053</td>\n",
       "      <td>Mumbai</td>\n",
       "      <td>Maharashtra</td>\n",
       "      <td>Private Laboratory</td>\n",
       "      <td>19.128016</td>\n",
       "      <td>72.832513</td>\n",
       "    </tr>\n",
       "    <tr>\n",
       "      <th>8</th>\n",
       "      <td>Metropolis Healthcare Ltd, Mumbai</td>\n",
       "      <td>Metropolis Healthcare Ltd, 4th Floor, Commeric...</td>\n",
       "      <td>400070</td>\n",
       "      <td>Mumbai</td>\n",
       "      <td>Maharashtra</td>\n",
       "      <td>Private Laboratory</td>\n",
       "      <td>19.080472</td>\n",
       "      <td>72.883589</td>\n",
       "    </tr>\n",
       "    <tr>\n",
       "      <th>9</th>\n",
       "      <td>SRL Diagnostics, Goregaon West</td>\n",
       "      <td>SRL Diagnostics, Plot No 1, Prime Square build...</td>\n",
       "      <td>400062</td>\n",
       "      <td>Mumbai</td>\n",
       "      <td>Maharashtra</td>\n",
       "      <td>Private Laboratory</td>\n",
       "      <td>19.161465</td>\n",
       "      <td>72.848464</td>\n",
       "    </tr>\n",
       "    <tr>\n",
       "      <th>10</th>\n",
       "      <td>A.G Diagnostics Pvt Ltd, Pune</td>\n",
       "      <td>A.G Diagnostics Pvt Ltd, CTS No 809, F.P. 147,...</td>\n",
       "      <td>411004</td>\n",
       "      <td>Mumbai</td>\n",
       "      <td>Maharashtra</td>\n",
       "      <td>Private Laboratory</td>\n",
       "      <td>18.508727</td>\n",
       "      <td>73.830869</td>\n",
       "    </tr>\n",
       "    <tr>\n",
       "      <th>11</th>\n",
       "      <td>Kokilaben Dhirubhai Ambani Hospital Laboratory...</td>\n",
       "      <td>Kokilaben Dhirubhai Ambani Hospital Laboratory...</td>\n",
       "      <td>400053</td>\n",
       "      <td>Mumbai</td>\n",
       "      <td>Maharashtra</td>\n",
       "      <td>Private Laboratory</td>\n",
       "      <td>19.128016</td>\n",
       "      <td>72.832513</td>\n",
       "    </tr>\n",
       "    <tr>\n",
       "      <th>12</th>\n",
       "      <td>iGenetic Diagnostics Pvt. Ltd., Mumbai</td>\n",
       "      <td>iGenetic Diagnostics Pvt. Ltd., 1st Floor, kri...</td>\n",
       "      <td>400072</td>\n",
       "      <td>Mumbai</td>\n",
       "      <td>Maharashtra</td>\n",
       "      <td>Private Laboratory</td>\n",
       "      <td>19.098612</td>\n",
       "      <td>72.886596</td>\n",
       "    </tr>\n",
       "    <tr>\n",
       "      <th>13</th>\n",
       "      <td>Tata Memorial Centre Diagnostic Services, Tata...</td>\n",
       "      <td>Tata Memorial Centre Diagnostic Services, Tata...</td>\n",
       "      <td>400012</td>\n",
       "      <td>Mumbai</td>\n",
       "      <td>Maharashtra</td>\n",
       "      <td>Private Laboratory</td>\n",
       "      <td>19.000795</td>\n",
       "      <td>72.840147</td>\n",
       "    </tr>\n",
       "    <tr>\n",
       "      <th>14</th>\n",
       "      <td>Dr. Jariwala Laboratory &amp; Diagnostics LLP, Mumbai</td>\n",
       "      <td>Dr. Jariwala Laboratory &amp; Diagnostics LLP, 1st...</td>\n",
       "      <td>400092</td>\n",
       "      <td>Mumbai</td>\n",
       "      <td>Maharashtra</td>\n",
       "      <td>Private Laboratory</td>\n",
       "      <td>19.206161</td>\n",
       "      <td>72.785296</td>\n",
       "    </tr>\n",
       "    <tr>\n",
       "      <th>15</th>\n",
       "      <td>Qualilife Diagnostics, Mumbai</td>\n",
       "      <td>Qualilife Diagnostics, Balaji Arcade, 1st Floo...</td>\n",
       "      <td>400080</td>\n",
       "      <td>Mumbai</td>\n",
       "      <td>Maharashtra</td>\n",
       "      <td>Private Laboratory</td>\n",
       "      <td>19.173654</td>\n",
       "      <td>72.950411</td>\n",
       "    </tr>\n",
       "    <tr>\n",
       "      <th>16</th>\n",
       "      <td>SRL Diagnostics- Dr. Avinash Phadke (SRL Diagn...</td>\n",
       "      <td>SRL Diagnostics- Dr. Avinash Phadke (SRL Diagn...</td>\n",
       "      <td>400016</td>\n",
       "      <td>Mumbai</td>\n",
       "      <td>Maharashtra</td>\n",
       "      <td>Private Laboratory</td>\n",
       "      <td>19.033574</td>\n",
       "      <td>72.838647</td>\n",
       "    </tr>\n",
       "    <tr>\n",
       "      <th>17</th>\n",
       "      <td>Sunflower Laboratory And Diagnostic Center, Mu...</td>\n",
       "      <td>Sunflower Laboratory And Diagnostic Center, Ke...</td>\n",
       "      <td>400064</td>\n",
       "      <td>Mumbai</td>\n",
       "      <td>Maharashtra</td>\n",
       "      <td>Private Laboratory</td>\n",
       "      <td>19.195942</td>\n",
       "      <td>72.839677</td>\n",
       "    </tr>\n",
       "    <tr>\n",
       "      <th>18</th>\n",
       "      <td>Department of Laboratory Medicine – P.D. Hindu...</td>\n",
       "      <td>Department of Laboratory Medicine – P.D. Hindu...</td>\n",
       "      <td>400016</td>\n",
       "      <td>Mumbai</td>\n",
       "      <td>Maharashtra</td>\n",
       "      <td>Private Laboratory</td>\n",
       "      <td>19.033574</td>\n",
       "      <td>72.838647</td>\n",
       "    </tr>\n",
       "  </tbody>\n",
       "</table>\n",
       "</div>"
      ],
      "text/plain": [
       "                                                  lab  \\\n",
       "0      Seth GS Medical College & KEM Hospital, Mumbai   \n",
       "1   Kasturba Hospital for Infectious Diseases, Mumbai   \n",
       "2   National Institute of Virology Field Unit, Mumbai   \n",
       "3     Grant Medical College & Sir JJ Hospital, Mumbai   \n",
       "4                          Haffkine Institute, Mumbai   \n",
       "5                        Govt. Medical College, Akola   \n",
       "6   ICMR-National Institute for Research in Reprod...   \n",
       "7      Suburban Diagnostics (India) Pvt. Ltd., Mumbai   \n",
       "8                   Metropolis Healthcare Ltd, Mumbai   \n",
       "9                      SRL Diagnostics, Goregaon West   \n",
       "10                      A.G Diagnostics Pvt Ltd, Pune   \n",
       "11  Kokilaben Dhirubhai Ambani Hospital Laboratory...   \n",
       "12             iGenetic Diagnostics Pvt. Ltd., Mumbai   \n",
       "13  Tata Memorial Centre Diagnostic Services, Tata...   \n",
       "14  Dr. Jariwala Laboratory & Diagnostics LLP, Mumbai   \n",
       "15                      Qualilife Diagnostics, Mumbai   \n",
       "16  SRL Diagnostics- Dr. Avinash Phadke (SRL Diagn...   \n",
       "17  Sunflower Laboratory And Diagnostic Center, Mu...   \n",
       "18  Department of Laboratory Medicine – P.D. Hindu...   \n",
       "\n",
       "                                              address  Pincode    city  \\\n",
       "0   Seth GS Medical College & KEM Hospital, Achary...   400012  Mumbai   \n",
       "1   Kasturba Hospital for Infectious Diseases, San...   400034  Mumbai   \n",
       "2   National Institute of Virology Field Unit, Haf...   400012  Mumbai   \n",
       "3   Grant Medical College & Sir JJ Hospital, J J M...   400008  Mumbai   \n",
       "4   Haffkine Institute, Acharya Donde Marg, Parel,...   400012  Mumbai   \n",
       "5   Govt. Medical College, Ashok Vatika, District ...   444001  Mumbai   \n",
       "6   ICMR-National Institute for Research in Reprod...   400012  Mumbai   \n",
       "7   Suburban Diagnostics (India) Pvt. Ltd., 2nd Fl...   400053  Mumbai   \n",
       "8   Metropolis Healthcare Ltd, 4th Floor, Commeric...   400070  Mumbai   \n",
       "9   SRL Diagnostics, Plot No 1, Prime Square build...   400062  Mumbai   \n",
       "10  A.G Diagnostics Pvt Ltd, CTS No 809, F.P. 147,...   411004  Mumbai   \n",
       "11  Kokilaben Dhirubhai Ambani Hospital Laboratory...   400053  Mumbai   \n",
       "12  iGenetic Diagnostics Pvt. Ltd., 1st Floor, kri...   400072  Mumbai   \n",
       "13  Tata Memorial Centre Diagnostic Services, Tata...   400012  Mumbai   \n",
       "14  Dr. Jariwala Laboratory & Diagnostics LLP, 1st...   400092  Mumbai   \n",
       "15  Qualilife Diagnostics, Balaji Arcade, 1st Floo...   400080  Mumbai   \n",
       "16  SRL Diagnostics- Dr. Avinash Phadke (SRL Diagn...   400016  Mumbai   \n",
       "17  Sunflower Laboratory And Diagnostic Center, Ke...   400064  Mumbai   \n",
       "18  Department of Laboratory Medicine – P.D. Hindu...   400016  Mumbai   \n",
       "\n",
       "          state                   type   Latitude  Longitude  \n",
       "0   Maharashtra  Government Laboratory  19.000795  72.840147  \n",
       "1   Maharashtra  Government Laboratory  18.976686  72.812367  \n",
       "2   Maharashtra  Government Laboratory  19.000795  72.840147  \n",
       "3   Maharashtra  Government Laboratory  18.970566  72.833956  \n",
       "4   Maharashtra  Government Laboratory  19.000795  72.840147  \n",
       "5   Maharashtra  Government Laboratory  20.805243  77.107690  \n",
       "6   Maharashtra  Government Laboratory  19.000795  72.840147  \n",
       "7   Maharashtra     Private Laboratory  19.128016  72.832513  \n",
       "8   Maharashtra     Private Laboratory  19.080472  72.883589  \n",
       "9   Maharashtra     Private Laboratory  19.161465  72.848464  \n",
       "10  Maharashtra     Private Laboratory  18.508727  73.830869  \n",
       "11  Maharashtra     Private Laboratory  19.128016  72.832513  \n",
       "12  Maharashtra     Private Laboratory  19.098612  72.886596  \n",
       "13  Maharashtra     Private Laboratory  19.000795  72.840147  \n",
       "14  Maharashtra     Private Laboratory  19.206161  72.785296  \n",
       "15  Maharashtra     Private Laboratory  19.173654  72.950411  \n",
       "16  Maharashtra     Private Laboratory  19.033574  72.838647  \n",
       "17  Maharashtra     Private Laboratory  19.195942  72.839677  \n",
       "18  Maharashtra     Private Laboratory  19.033574  72.838647  "
      ]
     },
     "execution_count": 11,
     "metadata": {},
     "output_type": "execute_result"
    }
   ],
   "source": [
    "mumbai_labs_final=mumbai_testing_labs.merge(Mumbai_covid_labs,how='left',on='Pincode',validate='m:1')\n",
    "mumbai_labs_final.dropna(inplace=True)\n",
    "mumbai_labs_final"
   ]
  },
  {
   "cell_type": "code",
   "execution_count": 12,
   "metadata": {},
   "outputs": [
    {
     "name": "stdout",
     "output_type": "stream",
     "text": [
      "The geograpical coordinate found for  Mumbai,India Lat: 18.9387711 Long:72.8353355\n"
     ]
    }
   ],
   "source": [
    "address = ' Mumbai,India'\n",
    "geolocator = Nominatim(user_agent=\"can_explorer\")\n",
    "location = geolocator.geocode(address,timeout=15)\n",
    "latitude = location.latitude\n",
    "longitude =location.longitude\n",
    "print('The geograpical coordinate found for {} Lat: {} Long:{}'.format(address,latitude,longitude))"
   ]
  },
  {
   "cell_type": "markdown",
   "metadata": {},
   "source": [
    "# Find Data for Hospitals using FourSquare Location API\n",
    "Category ID is used to find a particular type of veune in neighbourhood\n",
    "Refer https://developer.foursquare.com/docs/build-with-foursquare/categories/ for more details on venue category Ids\n",
    "Category Id for Hospitals = 4bf58dd8d48988d196941735"
   ]
  },
  {
   "cell_type": "code",
   "execution_count": 13,
   "metadata": {},
   "outputs": [
    {
     "name": "stdout",
     "output_type": "stream",
     "text": [
      "Your credentails:\n",
      "CLIENT_ID: ZVLUP1PU41P2XVZN1R15EWMRBMOUU5MA3HTHOYKFKZTHWMYJ\n",
      "CLIENT_SECRET:ST0MKT1KNGXTV5PXYGRDHNUHA5XRYKTM5V4NGUQG4FHEP245\n"
     ]
    }
   ],
   "source": [
    "LIMIT = 100\n",
    "\n",
    "CLIENT_ID = 'ZVLUP1PU41P2XVZN1R15EWMRBMOUU5MA3HTHOYKFKZTHWMYJ' # your Foursquare ID\n",
    "CLIENT_SECRET = 'ST0MKT1KNGXTV5PXYGRDHNUHA5XRYKTM5V4NGUQG4FHEP245' # your Foursquare Secret\n",
    "VERSION = '20180605' # Foursquare API version\n",
    "CATEGORYID='4bf58dd8d48988d196941735'\n",
    "\n",
    "print('Your credentails:')\n",
    "print('CLIENT_ID: ' + CLIENT_ID)\n",
    "print('CLIENT_SECRET:' + CLIENT_SECRET)\n",
    "lat='19.25023195'\n",
    "lng='73.16017493'\n",
    "radius=500"
   ]
  },
  {
   "cell_type": "code",
   "execution_count": 14,
   "metadata": {},
   "outputs": [
    {
     "data": {
      "text/plain": [
       "{'confident': False,\n",
       " 'venues': [{'categories': [{'icon': {'prefix': 'https://ss3.4sqi.net/img/categories_v2/building/medical_',\n",
       "      'suffix': '.png'},\n",
       "     'id': '4bf58dd8d48988d196941735',\n",
       "     'name': 'Hospital',\n",
       "     'pluralName': 'Hospitals',\n",
       "     'primary': True,\n",
       "     'shortName': 'Hospital'}],\n",
       "   'hasPerk': False,\n",
       "   'id': '4dd672981f6ee1468309251d',\n",
       "   'location': {'address': 'Dr E Borges Marg, Parel',\n",
       "    'cc': 'IN',\n",
       "    'city': 'Mumbai',\n",
       "    'country': 'India',\n",
       "    'distance': 88,\n",
       "    'formattedAddress': ['Dr E Borges Marg, Parel',\n",
       "     'Mumbai',\n",
       "     'Mahārāshtra',\n",
       "     'India'],\n",
       "    'labeledLatLngs': [{'label': 'display',\n",
       "      'lat': 19.00264397391697,\n",
       "      'lng': 72.8412751306918}],\n",
       "    'lat': 19.00264397391697,\n",
       "    'lng': 72.8412751306918,\n",
       "    'state': 'Mahārāshtra'},\n",
       "   'name': 'KEM Hospital',\n",
       "   'referralId': 'v-1587977633'},\n",
       "  {'categories': [{'icon': {'prefix': 'https://ss3.4sqi.net/img/categories_v2/building/medical_',\n",
       "      'suffix': '.png'},\n",
       "     'id': '4bf58dd8d48988d1b3941735',\n",
       "     'name': 'Medical School',\n",
       "     'pluralName': 'Medical Schools',\n",
       "     'primary': True,\n",
       "     'shortName': 'Medical School'}],\n",
       "   'hasPerk': False,\n",
       "   'id': '4cda35ed39172d43e29181d8',\n",
       "   'location': {'address': 'Parel',\n",
       "    'cc': 'IN',\n",
       "    'city': 'Mumbai',\n",
       "    'country': 'India',\n",
       "    'crossStreet': 'at Acharya Donde Marg',\n",
       "    'distance': 23,\n",
       "    'formattedAddress': ['Parel (at Acharya Donde Marg)',\n",
       "     'Mumbai 400012',\n",
       "     'Mahārāshtra',\n",
       "     'India'],\n",
       "    'labeledLatLngs': [{'label': 'display',\n",
       "      'lat': 19.00228537906406,\n",
       "      'lng': 72.84210195639147}],\n",
       "    'lat': 19.00228537906406,\n",
       "    'lng': 72.84210195639147,\n",
       "    'postalCode': '400012',\n",
       "    'state': 'Mahārāshtra'},\n",
       "   'name': 'Seth GS Medical College & KEM Hospital',\n",
       "   'referralId': 'v-1587977633'},\n",
       "  {'categories': [{'icon': {'prefix': 'https://ss3.4sqi.net/img/categories_v2/building/medical_',\n",
       "      'suffix': '.png'},\n",
       "     'id': '4bf58dd8d48988d196941735',\n",
       "     'name': 'Hospital',\n",
       "     'pluralName': 'Hospitals',\n",
       "     'primary': True,\n",
       "     'shortName': 'Hospital'}],\n",
       "   'hasPerk': False,\n",
       "   'id': '4d58f5734f9bcbffe627fb39',\n",
       "   'location': {'address': 'Acharya Dhonde Marg',\n",
       "    'cc': 'IN',\n",
       "    'city': 'Mumbai',\n",
       "    'country': 'India',\n",
       "    'crossStreet': 'Opp. KEM Hospital, Parel',\n",
       "    'distance': 86,\n",
       "    'formattedAddress': ['Acharya Dhonde Marg (Opp. KEM Hospital, Parel)',\n",
       "     'Mumbai 400012',\n",
       "     'Mahārāshtra',\n",
       "     'India'],\n",
       "    'labeledLatLngs': [{'label': 'display',\n",
       "      'lat': 19.00279972801678,\n",
       "      'lng': 72.84285603104077}],\n",
       "    'lat': 19.00279972801678,\n",
       "    'lng': 72.84285603104077,\n",
       "    'postalCode': '400012',\n",
       "    'state': 'Mahārāshtra'},\n",
       "   'name': 'Nowrosjee Wadia Maternity Hospital',\n",
       "   'referralId': 'v-1587977633'},\n",
       "  {'categories': [{'icon': {'prefix': 'https://ss3.4sqi.net/img/categories_v2/building/medical_',\n",
       "      'suffix': '.png'},\n",
       "     'id': '4bf58dd8d48988d196941735',\n",
       "     'name': 'Hospital',\n",
       "     'pluralName': 'Hospitals',\n",
       "     'primary': True,\n",
       "     'shortName': 'Hospital'}],\n",
       "   'hasPerk': False,\n",
       "   'id': '536075cf498ef2b1e08c7df1',\n",
       "   'location': {'address': 'Acharya Donde Marg',\n",
       "    'cc': 'IN',\n",
       "    'city': 'Mumbai',\n",
       "    'country': 'India',\n",
       "    'crossStreet': 'Parel',\n",
       "    'distance': 94,\n",
       "    'formattedAddress': ['Acharya Donde Marg (Parel)',\n",
       "     'Mumbai 400012',\n",
       "     'Mahārāshtra',\n",
       "     'India'],\n",
       "    'labeledLatLngs': [{'label': 'display',\n",
       "      'lat': 19.00323623315139,\n",
       "      'lng': 72.8416617021637}],\n",
       "    'lat': 19.00323623315139,\n",
       "    'lng': 72.8416617021637,\n",
       "    'postalCode': '400012',\n",
       "    'state': 'Mahārāshtra'},\n",
       "   'name': 'Wadia Hospitals',\n",
       "   'referralId': 'v-1587977633'},\n",
       "  {'categories': [{'icon': {'prefix': 'https://ss3.4sqi.net/img/categories_v2/building/medical_',\n",
       "      'suffix': '.png'},\n",
       "     'id': '4bf58dd8d48988d196941735',\n",
       "     'name': 'Hospital',\n",
       "     'pluralName': 'Hospitals',\n",
       "     'primary': True,\n",
       "     'shortName': 'Hospital'}],\n",
       "   'hasPerk': False,\n",
       "   'id': '4b0587e5f964a52032a622e3',\n",
       "   'location': {'address': 'Dr Ernest Borges Road',\n",
       "    'cc': 'IN',\n",
       "    'city': 'Mumbai',\n",
       "    'country': 'India',\n",
       "    'distance': 348,\n",
       "    'formattedAddress': ['Dr Ernest Borges Road',\n",
       "     'Mumbai 400 012',\n",
       "     'Mahārāshtra',\n",
       "     'India'],\n",
       "    'labeledLatLngs': [{'label': 'display',\n",
       "      'lat': 19.005103729353593,\n",
       "      'lng': 72.84026905898314}],\n",
       "    'lat': 19.005103729353593,\n",
       "    'lng': 72.84026905898314,\n",
       "    'postalCode': '400 012',\n",
       "    'state': 'Mahārāshtra'},\n",
       "   'name': 'Tata Memorial Centre',\n",
       "   'referralId': 'v-1587977633'},\n",
       "  {'categories': [{'icon': {'prefix': 'https://ss3.4sqi.net/img/categories_v2/building/medical_',\n",
       "      'suffix': '.png'},\n",
       "     'id': '4bf58dd8d48988d196941735',\n",
       "     'name': 'Hospital',\n",
       "     'pluralName': 'Hospitals',\n",
       "     'primary': True,\n",
       "     'shortName': 'Hospital'}],\n",
       "   'hasPerk': False,\n",
       "   'id': '567f7f78498e515873ebaa88',\n",
       "   'location': {'cc': 'IN',\n",
       "    'country': 'India',\n",
       "    'distance': 239,\n",
       "    'formattedAddress': ['India'],\n",
       "    'labeledLatLngs': [{'label': 'display',\n",
       "      'lat': 19.004414214143676,\n",
       "      'lng': 72.84106742039359}],\n",
       "    'lat': 19.004414214143676,\n",
       "    'lng': 72.84106742039359,\n",
       "    'neighborhood': 'Parel'},\n",
       "   'name': 'Bai Jerbai Wadia Hospital For Children',\n",
       "   'referralId': 'v-1587977633'},\n",
       "  {'categories': [{'icon': {'prefix': 'https://ss3.4sqi.net/img/categories_v2/building/medical_',\n",
       "      'suffix': '.png'},\n",
       "     'id': '4bf58dd8d48988d196941735',\n",
       "     'name': 'Hospital',\n",
       "     'pluralName': 'Hospitals',\n",
       "     'primary': True,\n",
       "     'shortName': 'Hospital'}],\n",
       "   'hasPerk': False,\n",
       "   'id': '4b9b96b2f964a520bd1136e3',\n",
       "   'location': {'address': 'Parel',\n",
       "    'cc': 'IN',\n",
       "    'city': 'Mumbai',\n",
       "    'country': 'India',\n",
       "    'distance': 258,\n",
       "    'formattedAddress': ['Parel', 'Mumbai', 'Mahārāshtra', 'India'],\n",
       "    'labeledLatLngs': [{'label': 'display',\n",
       "      'lat': 19.004708255708742,\n",
       "      'lng': 72.84286853202218}],\n",
       "    'lat': 19.004708255708742,\n",
       "    'lng': 72.84286853202218,\n",
       "    'state': 'Mahārāshtra'},\n",
       "   'name': 'Tata Memorial Hospital',\n",
       "   'referralId': 'v-1587977633'},\n",
       "  {'categories': [{'icon': {'prefix': 'https://ss3.4sqi.net/img/categories_v2/building/medical_',\n",
       "      'suffix': '.png'},\n",
       "     'id': '4bf58dd8d48988d196941735',\n",
       "     'name': 'Hospital',\n",
       "     'pluralName': 'Hospitals',\n",
       "     'primary': True,\n",
       "     'shortName': 'Hospital'}],\n",
       "   'hasPerk': False,\n",
       "   'id': '5142d760e4b0f685d3419791',\n",
       "   'location': {'cc': 'IN',\n",
       "    'city': 'Mumbai',\n",
       "    'country': 'India',\n",
       "    'distance': 384,\n",
       "    'formattedAddress': ['Mumbai', 'Mahārāshtra', 'India'],\n",
       "    'labeledLatLngs': [{'label': 'display',\n",
       "      'lat': 18.99929415563421,\n",
       "      'lng': 72.8407346988817}],\n",
       "    'lat': 18.99929415563421,\n",
       "    'lng': 72.8407346988817,\n",
       "    'state': 'Mahārāshtra'},\n",
       "   'name': 'Global Hospitals',\n",
       "   'referralId': 'v-1587977633'},\n",
       "  {'categories': [{'icon': {'prefix': 'https://ss3.4sqi.net/img/categories_v2/building/medical_',\n",
       "      'suffix': '.png'},\n",
       "     'id': '4bf58dd8d48988d196941735',\n",
       "     'name': 'Hospital',\n",
       "     'pluralName': 'Hospitals',\n",
       "     'primary': True,\n",
       "     'shortName': 'Hospital'}],\n",
       "   'hasPerk': False,\n",
       "   'id': '502150e6e4b00233023e2e6f',\n",
       "   'location': {'address': 'Parel',\n",
       "    'cc': 'IN',\n",
       "    'city': 'Mumbai',\n",
       "    'country': 'India',\n",
       "    'crossStreet': 'Bhoiwada junction',\n",
       "    'distance': 479,\n",
       "    'formattedAddress': ['Parel (Bhoiwada junction)',\n",
       "     'Mumbai',\n",
       "     'Mahārāshtra',\n",
       "     'India'],\n",
       "    'labeledLatLngs': [{'label': 'display',\n",
       "      'lat': 19.00576416659502,\n",
       "      'lng': 72.8450658124881}],\n",
       "    'lat': 19.00576416659502,\n",
       "    'lng': 72.8450658124881,\n",
       "    'state': 'Mahārāshtra'},\n",
       "   'name': 'Parel Hospital',\n",
       "   'referralId': 'v-1587977633'},\n",
       "  {'categories': [{'icon': {'prefix': 'https://ss3.4sqi.net/img/categories_v2/building/medical_',\n",
       "      'suffix': '.png'},\n",
       "     'id': '4bf58dd8d48988d196941735',\n",
       "     'name': 'Hospital',\n",
       "     'pluralName': 'Hospitals',\n",
       "     'primary': True,\n",
       "     'shortName': 'Hospital'}],\n",
       "   'hasPerk': False,\n",
       "   'id': '523be97211d2c0cab6d54f91',\n",
       "   'location': {'cc': 'IN',\n",
       "    'country': 'India',\n",
       "    'distance': 529,\n",
       "    'formattedAddress': ['India'],\n",
       "    'labeledLatLngs': [{'label': 'display',\n",
       "      'lat': 18.997744,\n",
       "      'lng': 72.841951}],\n",
       "    'lat': 18.997744,\n",
       "    'lng': 72.841951},\n",
       "   'name': 'Mahatma Gandhi Memorial Hospital',\n",
       "   'referralId': 'v-1587977633'}]}"
      ]
     },
     "execution_count": 14,
     "metadata": {},
     "output_type": "execute_result"
    }
   ],
   "source": [
    " # create the API request URL\n",
    "radius=500\n",
    "latitude=19.0025 #Mumbai\n",
    "longitude=72.8421 #Mumbai\n",
    "#for latitude,longitude in zip(mumbai_covid_clusters['Latitude'],mumbai_covid_clusters['Longitude']):\n",
    "url = 'https://api.foursquare.com/v2/venues/search?categoryId={}&client_id={}&client_secret={}&v={}&ll={},{}&radius={}&limit={}'.format(CATEGORYID,CLIENT_ID,  CLIENT_SECRET, VERSION, latitude, longitude, radius, LIMIT)\n",
    "results = requests.get(url).json()[\"response\"]#['groups'][0]['items']\n",
    "    #results = requests.get(url).json()\n",
    "results"
   ]
  },
  {
   "cell_type": "code",
   "execution_count": 15,
   "metadata": {},
   "outputs": [
    {
     "data": {
      "text/html": [
       "<div style=\"width:100%;\"><div style=\"position:relative;width:100%;height:0;padding-bottom:60%;\"><iframe src=\"data:text/html;charset=utf-8;base64,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\" style=\"position:absolute;width:100%;height:100%;left:0;top:0;border:none !important;\" allowfullscreen webkitallowfullscreen mozallowfullscreen></iframe></div></div>"
      ],
      "text/plain": [
       "<folium.folium.Map at 0x7fb50029c6d8>"
      ]
     },
     "execution_count": 15,
     "metadata": {},
     "output_type": "execute_result"
    }
   ],
   "source": [
    "#Plot Toronto city on Map using folium\n",
    "mumbai_labs= folium.Map(location=[latitude, longitude], zoom_start=9)\n",
    "for lat, lng, Pincode, lab,typeh in zip(mumbai_labs_final['Latitude'], mumbai_labs_final['Longitude'], mumbai_labs_final['Pincode'], mumbai_labs_final['lab'],mumbai_labs_final['type']):\n",
    "    label = '{}, {},{}'.format(Pincode,lab,typeh)\n",
    "    label = folium.Popup(label, parse_html=True)\n",
    "    if typeh =='Private Laboratory':\n",
    "        val='blue'\n",
    "    else:\n",
    "        val='green'\n",
    "    \n",
    "\n",
    "    folium.CircleMarker(\n",
    "        [lat, lng],\n",
    "        radius=5,\n",
    "        popup=label,\n",
    "        color=val,\n",
    "        fill=True,\n",
    "        fill_color='#3186cc',\n",
    "        fill_opacity=0.7,\n",
    "        parse_html=False).add_to(mumbai_labs)  \n",
    "\n",
    "mumbai_labs"
   ]
  },
  {
   "cell_type": "code",
   "execution_count": 16,
   "metadata": {},
   "outputs": [],
   "source": [
    "covid19_zones=covid19_mumbai"
   ]
  },
  {
   "cell_type": "code",
   "execution_count": 17,
   "metadata": {},
   "outputs": [],
   "source": [
    "covid19_zones.drop_duplicates('Pincode',inplace=True)"
   ]
  },
  {
   "cell_type": "code",
   "execution_count": 18,
   "metadata": {},
   "outputs": [
    {
     "data": {
      "text/plain": [
       "(81, 12)"
      ]
     },
     "execution_count": 18,
     "metadata": {},
     "output_type": "execute_result"
    }
   ],
   "source": [
    "covid19_zones.shape"
   ]
  },
  {
   "cell_type": "code",
   "execution_count": 19,
   "metadata": {},
   "outputs": [
    {
     "data": {
      "text/html": [
       "<div>\n",
       "<style scoped>\n",
       "    .dataframe tbody tr th:only-of-type {\n",
       "        vertical-align: middle;\n",
       "    }\n",
       "\n",
       "    .dataframe tbody tr th {\n",
       "        vertical-align: top;\n",
       "    }\n",
       "\n",
       "    .dataframe thead th {\n",
       "        text-align: right;\n",
       "    }\n",
       "</style>\n",
       "<table border=\"1\" class=\"dataframe\">\n",
       "  <thead>\n",
       "    <tr style=\"text-align: right;\">\n",
       "      <th></th>\n",
       "      <th>Ward</th>\n",
       "      <th>Pincode</th>\n",
       "      <th>Address</th>\n",
       "      <th>Unnamed: 0</th>\n",
       "      <th>Area</th>\n",
       "      <th>State</th>\n",
       "      <th>Number</th>\n",
       "      <th>Region</th>\n",
       "      <th>Area_Tag</th>\n",
       "      <th>Latitude</th>\n",
       "      <th>Longitude</th>\n",
       "      <th>BMC_Ward</th>\n",
       "    </tr>\n",
       "  </thead>\n",
       "  <tbody>\n",
       "    <tr>\n",
       "      <th>0</th>\n",
       "      <td>A</td>\n",
       "      <td>400001</td>\n",
       "      <td>Blossoms,ModiStrret,OppFishMarket,Fort</td>\n",
       "      <td>1.0</td>\n",
       "      <td>Mumbai G.P.O.</td>\n",
       "      <td>Maharashtra</td>\n",
       "      <td>16.0</td>\n",
       "      <td>Mumbai</td>\n",
       "      <td>Mumbai</td>\n",
       "      <td>18.6291</td>\n",
       "      <td>72.8919</td>\n",
       "      <td>NaN</td>\n",
       "    </tr>\n",
       "    <tr>\n",
       "      <th>2</th>\n",
       "      <td>A</td>\n",
       "      <td>400005</td>\n",
       "      <td>AbbasBuilding,BKBomanBehramMarg,BackSideOfTajH...</td>\n",
       "      <td>5.0</td>\n",
       "      <td>Colaba</td>\n",
       "      <td>Maharashtra</td>\n",
       "      <td>16.0</td>\n",
       "      <td>Mumbai</td>\n",
       "      <td>Mumbai</td>\n",
       "      <td>18.9069</td>\n",
       "      <td>72.8106</td>\n",
       "      <td>NaN</td>\n",
       "    </tr>\n",
       "    <tr>\n",
       "      <th>11</th>\n",
       "      <td>A</td>\n",
       "      <td>400020</td>\n",
       "      <td>BirlaMatoshreeQuarters,BomabyHospitalPremises,...</td>\n",
       "      <td>73.0</td>\n",
       "      <td>Central Building</td>\n",
       "      <td>Maharashtra</td>\n",
       "      <td>16.0</td>\n",
       "      <td>Mumbai</td>\n",
       "      <td>Mumbai</td>\n",
       "      <td>18.9860</td>\n",
       "      <td>72.8259</td>\n",
       "      <td>NaN</td>\n",
       "    </tr>\n",
       "    <tr>\n",
       "      <th>12</th>\n",
       "      <td>A</td>\n",
       "      <td>400021</td>\n",
       "      <td>GaribJanataNagar,BadhwarPark,CaptainPrakashPet...</td>\n",
       "      <td>74.0</td>\n",
       "      <td>Nariman Point</td>\n",
       "      <td>Maharashtra</td>\n",
       "      <td>16.0</td>\n",
       "      <td>Mumbai</td>\n",
       "      <td>Mumbai</td>\n",
       "      <td>18.9274</td>\n",
       "      <td>72.8241</td>\n",
       "      <td>NaN</td>\n",
       "    </tr>\n",
       "    <tr>\n",
       "      <th>14</th>\n",
       "      <td>B</td>\n",
       "      <td>400003</td>\n",
       "      <td>HajiMansion,TantanpuraRd,</td>\n",
       "      <td>3.0</td>\n",
       "      <td>Mandvi (Mumbai)</td>\n",
       "      <td>Maharashtra</td>\n",
       "      <td>16.0</td>\n",
       "      <td>Mumbai</td>\n",
       "      <td>NaN</td>\n",
       "      <td>18.9500</td>\n",
       "      <td>72.8333</td>\n",
       "      <td>NaN</td>\n",
       "    </tr>\n",
       "  </tbody>\n",
       "</table>\n",
       "</div>"
      ],
      "text/plain": [
       "   Ward  Pincode                                            Address  \\\n",
       "0    A    400001             Blossoms,ModiStrret,OppFishMarket,Fort   \n",
       "2    A    400005  AbbasBuilding,BKBomanBehramMarg,BackSideOfTajH...   \n",
       "11   A    400020  BirlaMatoshreeQuarters,BomabyHospitalPremises,...   \n",
       "12   A    400021  GaribJanataNagar,BadhwarPark,CaptainPrakashPet...   \n",
       "14   B    400003                          HajiMansion,TantanpuraRd,   \n",
       "\n",
       "    Unnamed: 0              Area        State  Number  Region Area_Tag  \\\n",
       "0          1.0     Mumbai G.P.O.  Maharashtra    16.0  Mumbai   Mumbai   \n",
       "2          5.0            Colaba  Maharashtra    16.0  Mumbai   Mumbai   \n",
       "11        73.0  Central Building  Maharashtra    16.0  Mumbai   Mumbai   \n",
       "12        74.0     Nariman Point  Maharashtra    16.0  Mumbai   Mumbai   \n",
       "14         3.0   Mandvi (Mumbai)  Maharashtra    16.0  Mumbai      NaN   \n",
       "\n",
       "    Latitude  Longitude  BMC_Ward  \n",
       "0    18.6291    72.8919       NaN  \n",
       "2    18.9069    72.8106       NaN  \n",
       "11   18.9860    72.8259       NaN  \n",
       "12   18.9274    72.8241       NaN  \n",
       "14   18.9500    72.8333       NaN  "
      ]
     },
     "execution_count": 19,
     "metadata": {},
     "output_type": "execute_result"
    }
   ],
   "source": [
    "covid19_zones.head()"
   ]
  },
  {
   "cell_type": "code",
   "execution_count": 20,
   "metadata": {},
   "outputs": [
    {
     "data": {
      "text/plain": [
       "array(['A ', 'B ', 'C ', 'D ', 'E ', 'FN', 'GN', 'GS', 'HE', 'HW', 'KW',\n",
       "       'L ', 'ME', 'MW', 'N ', 'PN', 'PS', 'RC', 'RS', 'S ', 'T '],\n",
       "      dtype=object)"
      ]
     },
     "execution_count": 20,
     "metadata": {},
     "output_type": "execute_result"
    }
   ],
   "source": [
    "zn=covid19_zones['Ward'].unique()\n",
    "zn"
   ]
  },
  {
   "cell_type": "code",
   "execution_count": 21,
   "metadata": {},
   "outputs": [],
   "source": [
    "covid19_zones\n",
    "covid19_zones.dropna(subset=['Latitude', 'Longitude'],inplace=True)"
   ]
  },
  {
   "cell_type": "code",
   "execution_count": 22,
   "metadata": {},
   "outputs": [
    {
     "data": {
      "text/plain": [
       "(79, 12)"
      ]
     },
     "execution_count": 22,
     "metadata": {},
     "output_type": "execute_result"
    }
   ],
   "source": [
    "covid19_zones.shape"
   ]
  },
  {
   "cell_type": "code",
   "execution_count": 23,
   "metadata": {
    "scrolled": true
   },
   "outputs": [
    {
     "data": {
      "text/html": [
       "<div style=\"width:100%;\"><div style=\"position:relative;width:100%;height:0;padding-bottom:60%;\"><iframe src=\"data:text/html;charset=utf-8;base64,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\" style=\"position:absolute;width:100%;height:100%;left:0;top:0;border:none !important;\" allowfullscreen webkitallowfullscreen mozallowfullscreen></iframe></div></div>"
      ],
      "text/plain": [
       "<folium.folium.Map at 0x7fb4ffb77a58>"
      ]
     },
     "execution_count": 23,
     "metadata": {},
     "output_type": "execute_result"
    }
   ],
   "source": [
    "#Plot Mumbai City Covid-19 Zones on Map using folium\n",
    "mumbai_19= folium.Map(location=[latitude, longitude], zoom_start=10)\n",
    "\n",
    "x = np.arange(21)\n",
    "ys = [i + x + (i*x)**2 for i in range(21)]\n",
    "colors_array = cm.rainbow(np.linspace(0, 1, len(ys)))\n",
    "rainbow = [colors.rgb2hex(i) for i in colors_array]\n",
    "colors_fl = [\n",
    "    'red',\n",
    "    'blue',\n",
    "    'gray',\n",
    "    'darkred',\n",
    "    'lightred',\n",
    "    'orange',\n",
    "    'beige',\n",
    "    'green',\n",
    "    'darkgreen',\n",
    "    'lightgreen',\n",
    "    'darkblue',\n",
    "    'lightblue',\n",
    "    'purple',\n",
    "    'darkpurple',\n",
    "    'pink',\n",
    "    'cadetblue',\n",
    "    'lightgray',\n",
    "    'black',\n",
    "    'darkyellow',\n",
    "    'lightyello',\n",
    "    'yellow'\n",
    "]\n",
    "for lat, lng, Pincode,ward,address in zip(covid19_zones['Latitude'], covid19_zones['Longitude'], covid19_zones['Pincode'], covid19_zones['Ward'],covid19_zones['Address']):\n",
    "    label = '{}, {},{}'.format(Pincode,ward,address)\n",
    "    label = folium.Popup(label, parse_html=True)\n",
    "    folium.CircleMarker(\n",
    "        [lat, lng],\n",
    "        radius=5,\n",
    "        popup=label,\n",
    "        color='red',\n",
    "        fill=True,\n",
    "        fill_color='#3186cc',\n",
    "        fill_opacity=0.7,\n",
    "        parse_html=False).add_to(mumbai_19)  \n",
    "\n",
    "mumbai_19"
   ]
  },
  {
   "cell_type": "code",
   "execution_count": 24,
   "metadata": {},
   "outputs": [
    {
     "data": {
      "text/plain": [
       "(721, 3)"
      ]
     },
     "execution_count": 24,
     "metadata": {},
     "output_type": "execute_result"
    }
   ],
   "source": [
    "covid_zones_mumbai.shape"
   ]
  },
  {
   "cell_type": "code",
   "execution_count": 25,
   "metadata": {},
   "outputs": [],
   "source": [
    "covid_mumbai_wards=covid_zones_mumbai"
   ]
  },
  {
   "cell_type": "code",
   "execution_count": 26,
   "metadata": {},
   "outputs": [
    {
     "data": {
      "text/plain": [
       "(721, 3)"
      ]
     },
     "execution_count": 26,
     "metadata": {},
     "output_type": "execute_result"
    }
   ],
   "source": [
    "covid_mumbai_wards.shape"
   ]
  },
  {
   "cell_type": "code",
   "execution_count": 27,
   "metadata": {},
   "outputs": [],
   "source": [
    "ward_group=covid_mumbai_wards.groupby('Ward')['Address'].count().reset_index()"
   ]
  },
  {
   "cell_type": "code",
   "execution_count": 28,
   "metadata": {},
   "outputs": [],
   "source": [
    "ward_group.rename(columns={\"Address\": \"Cases_Count\"},inplace=True)"
   ]
  },
  {
   "cell_type": "code",
   "execution_count": 29,
   "metadata": {},
   "outputs": [
    {
     "data": {
      "text/plain": [
       "Index(['Ward', 'Cases_Count'], dtype='object')"
      ]
     },
     "execution_count": 29,
     "metadata": {},
     "output_type": "execute_result"
    }
   ],
   "source": [
    "ward_group.columns"
   ]
  },
  {
   "cell_type": "code",
   "execution_count": 30,
   "metadata": {},
   "outputs": [
    {
     "data": {
      "image/png": "[encoded data removed]",
      "text/plain": [
       "<Figure size 1080x576 with 1 Axes>"
      ]
     },
     "metadata": {},
     "output_type": "display_data"
    }
   ],
   "source": [
    "f, ax = plt.subplots(figsize=(15, 8))\n",
    "data = ward_group[['Ward','Cases_Count']]\n",
    "data.sort_values('Ward',ascending=False,inplace=True)\n",
    "sns.set_color_codes(\"pastel\")\n",
    "sns.barplot(x=\"Ward\", y=\"Cases_Count\", data=data,\n",
    "            label=\"Total\", color=\"r\")\n",
    "\n",
    "            \n",
    "\n",
    "# Add a legend and informative axis label\n",
    "ax.legend(ncol=2, loc=\"lower right\", frameon=True)\n",
    "ax.set(xlim=(0, 10), ylabel=\"\",\n",
    "       xlabel=\"Cases\")\n",
    "sns.despine(left=True, bottom=True)\n",
    "plt.show()"
   ]
  },
  {
   "cell_type": "code",
   "execution_count": 31,
   "metadata": {},
   "outputs": [],
   "source": [
    "postal_cd=mumbai_pincodes"
   ]
  },
  {
   "cell_type": "code",
   "execution_count": 32,
   "metadata": {},
   "outputs": [],
   "source": [
    "#postal_cd.shape\n",
    "mum_postal_cd=postal_cd.loc[postal_cd['Region']== 'Mumbai']"
   ]
  },
  {
   "cell_type": "code",
   "execution_count": 33,
   "metadata": {},
   "outputs": [
    {
     "data": {
      "text/plain": [
       "Index(['Unnamed: 0', 'Pincode', ' Area', 'State', 'Number', 'Region',\n",
       "       'Area_Tag', 'Latitude', 'Longitude', 'BMC_Ward'],\n",
       "      dtype='object')"
      ]
     },
     "execution_count": 33,
     "metadata": {},
     "output_type": "execute_result"
    }
   ],
   "source": [
    "mum_postal_cd.columns"
   ]
  },
  {
   "cell_type": "code",
   "execution_count": 34,
   "metadata": {},
   "outputs": [],
   "source": [
    "mum_final=mum_postal_cd[['Pincode',' Area']]"
   ]
  },
  {
   "cell_type": "code",
   "execution_count": 35,
   "metadata": {},
   "outputs": [
    {
     "data": {
      "text/plain": [
       "(89, 2)"
      ]
     },
     "execution_count": 35,
     "metadata": {},
     "output_type": "execute_result"
    }
   ],
   "source": [
    "mum_final.shape"
   ]
  },
  {
   "cell_type": "code",
   "execution_count": 36,
   "metadata": {},
   "outputs": [],
   "source": [
    "zones=covid_zones_mumbai.groupby('Pincode')['Address'].count().reset_index()"
   ]
  },
  {
   "cell_type": "code",
   "execution_count": 37,
   "metadata": {},
   "outputs": [
    {
     "data": {
      "text/html": [
       "<div>\n",
       "<style scoped>\n",
       "    .dataframe tbody tr th:only-of-type {\n",
       "        vertical-align: middle;\n",
       "    }\n",
       "\n",
       "    .dataframe tbody tr th {\n",
       "        vertical-align: top;\n",
       "    }\n",
       "\n",
       "    .dataframe thead th {\n",
       "        text-align: right;\n",
       "    }\n",
       "</style>\n",
       "<table border=\"1\" class=\"dataframe\">\n",
       "  <thead>\n",
       "    <tr style=\"text-align: right;\">\n",
       "      <th></th>\n",
       "      <th>Pincode</th>\n",
       "      <th>Address</th>\n",
       "    </tr>\n",
       "  </thead>\n",
       "  <tbody>\n",
       "    <tr>\n",
       "      <th>0</th>\n",
       "      <td>400001</td>\n",
       "      <td>2</td>\n",
       "    </tr>\n",
       "    <tr>\n",
       "      <th>1</th>\n",
       "      <td>400003</td>\n",
       "      <td>18</td>\n",
       "    </tr>\n",
       "    <tr>\n",
       "      <th>2</th>\n",
       "      <td>400004</td>\n",
       "      <td>7</td>\n",
       "    </tr>\n",
       "    <tr>\n",
       "      <th>3</th>\n",
       "      <td>400005</td>\n",
       "      <td>9</td>\n",
       "    </tr>\n",
       "    <tr>\n",
       "      <th>4</th>\n",
       "      <td>400006</td>\n",
       "      <td>2</td>\n",
       "    </tr>\n",
       "  </tbody>\n",
       "</table>\n",
       "</div>"
      ],
      "text/plain": [
       "   Pincode  Address\n",
       "0   400001        2\n",
       "1   400003       18\n",
       "2   400004        7\n",
       "3   400005        9\n",
       "4   400006        2"
      ]
     },
     "execution_count": 37,
     "metadata": {},
     "output_type": "execute_result"
    }
   ],
   "source": [
    "zones.head()"
   ]
  },
  {
   "cell_type": "code",
   "execution_count": 38,
   "metadata": {},
   "outputs": [],
   "source": [
    "zones.rename(columns={\"Address\": \"Cases_Count\"},inplace=True)"
   ]
  },
  {
   "cell_type": "code",
   "execution_count": 39,
   "metadata": {},
   "outputs": [
    {
     "data": {
      "text/plain": [
       "Index(['Pincode', 'Cases_Count'], dtype='object')"
      ]
     },
     "execution_count": 39,
     "metadata": {},
     "output_type": "execute_result"
    }
   ],
   "source": [
    "zones.columns"
   ]
  },
  {
   "cell_type": "code",
   "execution_count": 40,
   "metadata": {},
   "outputs": [],
   "source": [
    "model_mum=mum_final.merge(zones,how='left',on='Pincode')\n",
    "#mumbai_labs_final=mumbai_testing_labs.merge(Mumbai_covid_labs,how='left',on='Pincode',validate='m:1')"
   ]
  },
  {
   "cell_type": "code",
   "execution_count": 41,
   "metadata": {},
   "outputs": [
    {
     "data": {
      "text/html": [
       "<div>\n",
       "<style scoped>\n",
       "    .dataframe tbody tr th:only-of-type {\n",
       "        vertical-align: middle;\n",
       "    }\n",
       "\n",
       "    .dataframe tbody tr th {\n",
       "        vertical-align: top;\n",
       "    }\n",
       "\n",
       "    .dataframe thead th {\n",
       "        text-align: right;\n",
       "    }\n",
       "</style>\n",
       "<table border=\"1\" class=\"dataframe\">\n",
       "  <thead>\n",
       "    <tr style=\"text-align: right;\">\n",
       "      <th></th>\n",
       "      <th>Pincode</th>\n",
       "      <th>Area</th>\n",
       "      <th>Cases_Count</th>\n",
       "    </tr>\n",
       "  </thead>\n",
       "  <tbody>\n",
       "    <tr>\n",
       "      <th>0</th>\n",
       "      <td>400001</td>\n",
       "      <td>Mumbai G.P.O.</td>\n",
       "      <td>2.0</td>\n",
       "    </tr>\n",
       "    <tr>\n",
       "      <th>1</th>\n",
       "      <td>400002</td>\n",
       "      <td>Thakurdwar</td>\n",
       "      <td>NaN</td>\n",
       "    </tr>\n",
       "    <tr>\n",
       "      <th>2</th>\n",
       "      <td>400003</td>\n",
       "      <td>Mandvi (Mumbai)</td>\n",
       "      <td>18.0</td>\n",
       "    </tr>\n",
       "    <tr>\n",
       "      <th>3</th>\n",
       "      <td>400004</td>\n",
       "      <td>Madhavbaug</td>\n",
       "      <td>7.0</td>\n",
       "    </tr>\n",
       "    <tr>\n",
       "      <th>4</th>\n",
       "      <td>400005</td>\n",
       "      <td>Colaba</td>\n",
       "      <td>9.0</td>\n",
       "    </tr>\n",
       "  </tbody>\n",
       "</table>\n",
       "</div>"
      ],
      "text/plain": [
       "   Pincode             Area  Cases_Count\n",
       "0   400001    Mumbai G.P.O.          2.0\n",
       "1   400002       Thakurdwar          NaN\n",
       "2   400003  Mandvi (Mumbai)         18.0\n",
       "3   400004       Madhavbaug          7.0\n",
       "4   400005           Colaba          9.0"
      ]
     },
     "execution_count": 41,
     "metadata": {},
     "output_type": "execute_result"
    }
   ],
   "source": [
    "model_mum.head()"
   ]
  },
  {
   "cell_type": "code",
   "execution_count": 42,
   "metadata": {},
   "outputs": [],
   "source": [
    "model_mum[\"Cases_Count\"].fillna(0.0, inplace = True) "
   ]
  },
  {
   "cell_type": "code",
   "execution_count": 43,
   "metadata": {},
   "outputs": [],
   "source": [
    "model_mum1=model_mum[['Pincode','Cases_Count']]"
   ]
  },
  {
   "cell_type": "code",
   "execution_count": 44,
   "metadata": {},
   "outputs": [
    {
     "data": {
      "text/plain": [
       "array([2, 2, 2, 2, 2, 2, 2, 2, 2, 2, 2, 2, 2, 2, 2, 2, 2, 2, 2, 2, 2, 2,\n",
       "       2, 2, 2, 2, 2, 2, 2, 2, 2, 2, 2, 2, 2, 0, 0, 0, 0, 0, 0, 0, 0, 0,\n",
       "       0, 0, 0, 0, 0, 0, 0, 0, 0, 0, 0, 0, 0, 0, 0, 0, 1, 1, 1, 1, 1, 1,\n",
       "       1, 1, 1, 1, 1, 1, 1, 1, 1, 1, 1, 1, 1, 1], dtype=int32)"
      ]
     },
     "execution_count": 44,
     "metadata": {},
     "output_type": "execute_result"
    }
   ],
   "source": [
    "kclusters = 3\n",
    "\n",
    "clustering_covid_mumbai = model_mum1\n",
    "\n",
    "# run k-means clustering\n",
    "kmeans = KMeans(n_clusters=kclusters, random_state=0).fit(clustering_covid_mumbai)\n",
    "\n",
    "# check cluster labels generated for each row in the dataframe\n",
    "kmeans.labels_[0:80]"
   ]
  },
  {
   "cell_type": "code",
   "execution_count": 45,
   "metadata": {},
   "outputs": [],
   "source": [
    "pincd_lst=mum_postal_cd['Pincode'].unique().tolist()\n",
    "covid_lat_lst=mum_postal_cd['Latitude'].tolist()\n",
    "covid_long_lst=mum_postal_cd['Longitude'].tolist()"
   ]
  },
  {
   "cell_type": "code",
   "execution_count": 46,
   "metadata": {},
   "outputs": [],
   "source": [
    "cluster_labels=kmeans.labels_[0:]"
   ]
  },
  {
   "cell_type": "code",
   "execution_count": 47,
   "metadata": {},
   "outputs": [
    {
     "data": {
      "text/plain": [
       "numpy.ndarray"
      ]
     },
     "execution_count": 47,
     "metadata": {},
     "output_type": "execute_result"
    }
   ],
   "source": [
    "type(cluster_labels)"
   ]
  },
  {
   "cell_type": "code",
   "execution_count": 48,
   "metadata": {},
   "outputs": [],
   "source": [
    "cluster_lst=cluster_labels.tolist()\n",
    "#=cluster_labels"
   ]
  },
  {
   "cell_type": "code",
   "execution_count": 49,
   "metadata": {},
   "outputs": [
    {
     "data": {
      "text/plain": [
       "89"
      ]
     },
     "execution_count": 49,
     "metadata": {},
     "output_type": "execute_result"
    }
   ],
   "source": [
    "len(covid_lat_lst)"
   ]
  },
  {
   "cell_type": "code",
   "execution_count": 52,
   "metadata": {},
   "outputs": [
    {
     "ename": "NameError",
     "evalue": "name 'mumbai_covid_clusters' is not defined",
     "output_type": "error",
     "traceback": [
      "\u001b[0;31m---------------------------------------------------------------------------\u001b[0m",
      "\u001b[0;31mNameError\u001b[0m                                 Traceback (most recent call last)",
      "\u001b[0;32m<ipython-input-52-16c7b4950b15>\u001b[0m in \u001b[0;36m<module>\u001b[0;34m()\u001b[0m\n\u001b[0;32m----> 1\u001b[0;31m \u001b[0mmumbai_covid_clusters\u001b[0m\u001b[0;34m.\u001b[0m\u001b[0mmerge\u001b[0m\u001b[0;34m(\u001b[0m\u001b[0mcovid_zones_mumbai\u001b[0m\u001b[0;34m,\u001b[0m\u001b[0mhow\u001b[0m\u001b[0;34m=\u001b[0m\u001b[0;34m'left'\u001b[0m\u001b[0;34m,\u001b[0m\u001b[0mon\u001b[0m\u001b[0;34m=\u001b[0m\u001b[0;34m'Pincode'\u001b[0m\u001b[0;34m)\u001b[0m\u001b[0;34m\u001b[0m\u001b[0m\n\u001b[0m",
      "\u001b[0;31mNameError\u001b[0m: name 'mumbai_covid_clusters' is not defined"
     ]
    }
   ],
   "source": [
    "mumbai_covid_clusters.merge(covid_zones_mumbai,how='left',on='Pincode')"
   ]
  },
  {
   "cell_type": "code",
   "execution_count": 51,
   "metadata": {},
   "outputs": [
    {
     "ename": "NameError",
     "evalue": "name 'mumbai_covid_clusters' is not defined",
     "output_type": "error",
     "traceback": [
      "\u001b[0;31m---------------------------------------------------------------------------\u001b[0m",
      "\u001b[0;31mNameError\u001b[0m                                 Traceback (most recent call last)",
      "\u001b[0;32m<ipython-input-51-dd3c7407fc10>\u001b[0m in \u001b[0;36m<module>\u001b[0;34m()\u001b[0m\n\u001b[1;32m     11\u001b[0m \u001b[0;31m# add markers to the map\u001b[0m\u001b[0;34m\u001b[0m\u001b[0;34m\u001b[0m\u001b[0m\n\u001b[1;32m     12\u001b[0m \u001b[0mmarkers_colors\u001b[0m \u001b[0;34m=\u001b[0m \u001b[0;34m[\u001b[0m\u001b[0;34m]\u001b[0m\u001b[0;34m\u001b[0m\u001b[0m\n\u001b[0;32m---> 13\u001b[0;31m \u001b[0;32mfor\u001b[0m \u001b[0mlat\u001b[0m\u001b[0;34m,\u001b[0m \u001b[0mlon\u001b[0m\u001b[0;34m,\u001b[0m \u001b[0mpoi\u001b[0m\u001b[0;34m,\u001b[0m \u001b[0mcluster\u001b[0m \u001b[0;32min\u001b[0m \u001b[0mzip\u001b[0m\u001b[0;34m(\u001b[0m\u001b[0mmumbai_covid_clusters\u001b[0m\u001b[0;34m[\u001b[0m\u001b[0;34m'Latitude'\u001b[0m\u001b[0;34m]\u001b[0m\u001b[0;34m,\u001b[0m \u001b[0mmumbai_covid_clusters\u001b[0m\u001b[0;34m[\u001b[0m\u001b[0;34m'Longitude'\u001b[0m\u001b[0;34m]\u001b[0m\u001b[0;34m,\u001b[0m \u001b[0mmumbai_covid_clusters\u001b[0m\u001b[0;34m[\u001b[0m\u001b[0;34m'Pincode'\u001b[0m\u001b[0;34m]\u001b[0m\u001b[0;34m,\u001b[0m \u001b[0mmumbai_covid_clusters\u001b[0m\u001b[0;34m[\u001b[0m\u001b[0;34m'Cluster_label'\u001b[0m\u001b[0;34m]\u001b[0m\u001b[0;34m)\u001b[0m\u001b[0;34m:\u001b[0m\u001b[0;34m\u001b[0m\u001b[0m\n\u001b[0m\u001b[1;32m     14\u001b[0m     \u001b[0mlabel\u001b[0m \u001b[0;34m=\u001b[0m \u001b[0mfolium\u001b[0m\u001b[0;34m.\u001b[0m\u001b[0mPopup\u001b[0m\u001b[0;34m(\u001b[0m\u001b[0mstr\u001b[0m\u001b[0;34m(\u001b[0m\u001b[0mpoi\u001b[0m\u001b[0;34m)\u001b[0m \u001b[0;34m+\u001b[0m \u001b[0;34m' Cluster '\u001b[0m \u001b[0;34m+\u001b[0m \u001b[0mstr\u001b[0m\u001b[0;34m(\u001b[0m\u001b[0mcluster\u001b[0m\u001b[0;34m)\u001b[0m\u001b[0;34m,\u001b[0m \u001b[0mparse_html\u001b[0m\u001b[0;34m=\u001b[0m\u001b[0;32mTrue\u001b[0m\u001b[0;34m)\u001b[0m\u001b[0;34m\u001b[0m\u001b[0m\n\u001b[1;32m     15\u001b[0m     \u001b[0;32mif\u001b[0m \u001b[0mcluster\u001b[0m \u001b[0;34m!=\u001b[0m \u001b[0;34m'Nan'\u001b[0m\u001b[0;34m:\u001b[0m\u001b[0;34m\u001b[0m\u001b[0m\n",
      "\u001b[0;31mNameError\u001b[0m: name 'mumbai_covid_clusters' is not defined"
     ]
    }
   ],
   "source": [
    "#Finally Plotting Clusters for Mumbai Covid-19 Zone\n",
    "map_clusters = folium.Map(location=[latitude, longitude],tiles=\"Stamen Toner\", zoom_start=10)\n",
    "\n",
    "# set color scheme for the clusters\n",
    "x = np.arange(kclusters)\n",
    "ys = [i + x + (i*x)**2 for i in range(kclusters)]\n",
    "#colors_array = cm.rainbow(np.linspace(0, 1, len(ys)))\n",
    "#rainbow = [colors.rgb2hex(i) for i in colors_array]\n",
    "color_code = ['green','blue','red']\n",
    "\n",
    "# add markers to the map\n",
    "markers_colors = []\n",
    "for lat, lon, poi, cluster in zip(mumbai_covid_clusters['Latitude'], mumbai_covid_clusters['Longitude'], mumbai_covid_clusters['Pincode'], mumbai_covid_clusters['Cluster_label']):\n",
    "    label = folium.Popup(str(poi) + ' Cluster ' + str(cluster), parse_html=True)\n",
    "    if cluster != 'Nan':\n",
    "        val=int(cluster)\n",
    "    folium.CircleMarker(\n",
    "        [lat, lon],\n",
    "        radius=5,\n",
    "        popup=label,\n",
    "        color=color_code[val],\n",
    "        fill=True,\n",
    "        fill_color=rainbow[val-1],\n",
    "        fill_opacity=0.7).add_to(map_clusters)\n",
    "       \n",
    "map_clusters"
   ]
  },
  {
   "cell_type": "code",
   "execution_count": null,
   "metadata": {},
   "outputs": [],
   "source": []
  }
 ],
 "metadata": {
  "kernelspec": {
   "display_name": "Python 3",
   "language": "python",
   "name": "python3"
  },
  "language_info": {
   "codemirror_mode": {
    "name": "ipython",
    "version": 3
   },
   "file_extension": ".py",
   "mimetype": "text/x-python",
   "name": "python",
   "nbconvert_exporter": "python",
   "pygments_lexer": "ipython3",
   "version": "3.6.5"
  }
 },
 "nbformat": 4,
 "nbformat_minor": 2
}
